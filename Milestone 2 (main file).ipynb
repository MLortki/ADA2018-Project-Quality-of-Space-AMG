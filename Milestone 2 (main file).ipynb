{
 "cells": [
  {
   "cell_type": "markdown",
   "metadata": {},
   "source": [
    "# Milestone 2"
   ]
  },
  {
   "cell_type": "markdown",
   "metadata": {},
   "source": [
    "For Milestone 2, we did the following steps:\n",
    "\n",
    "\n",
    "\n",
    "1) Studied Mobiliar insurance dataset, handled missing values, pre-processed some of the features and plotted distribution. Description of all of this is contained in notebook:\n",
    "\n",
    "\n",
    "2) Aggregated data for zip code level. For better visualization we created interactive heatmap, since we had many features for each zip code. Details of this process as well as heatmap are contained in notebook:\n",
    "\n",
    "3) Obtained several (around 30) datasets from open data Zurich website (list of datasets in ReadMe, as well as in designated notebook). Exploratory data analysis, visualization and data merging regarding those datasets is contained in notebook:  <font color='red'>zurich_open_data_exploration.ipynb</font> We used heatmaps as well, for visualization.\n",
    "(draft_shape_preprocessing.ipynb contains rough overview of shape files and their content)\n",
    "The above mentioned datasets, define our metric of quality of space/life.\n",
    "\n",
    "4) Devised plan for Milestone 3, which is contained inside <font color='red'>Milestone 3 (Planning).ipynb</font> notebook\n",
    "\n",
    "5) Updated readme file accordingly"
   ]
  }
 ],
 "metadata": {
  "kernelspec": {
   "display_name": "Python (ada)",
   "language": "python",
   "name": "ada"
  },
  "language_info": {
   "codemirror_mode": {
    "name": "ipython",
    "version": 3
   },
   "file_extension": ".py",
   "mimetype": "text/x-python",
   "name": "python",
   "nbconvert_exporter": "python",
   "pygments_lexer": "ipython3",
   "version": "3.6.6"
  }
 },
 "nbformat": 4,
 "nbformat_minor": 2
}
