{
 "cells": [
  {
   "cell_type": "markdown",
   "metadata": {},
   "source": [
    "# Descriptive Data Analysis of Insurance dataset"
   ]
  },
  {
   "cell_type": "markdown",
   "metadata": {},
   "source": [
    "We will be using Mobiliar insurance dataset. We have to select features we are going to consider for our analysis as well as devise a plan to aggregate data on zip-code level.\n",
    "\n",
    "First of all, we are going to read the dataset and visualize its features:"
   ]
  },
  {
   "cell_type": "code",
   "execution_count": 1,
   "metadata": {},
   "outputs": [],
   "source": [
    "import json\n",
    "import pandas as pd\n",
    "import numpy as np\n",
    "import matplotlib.pyplot as plt\n",
    "from os import listdir"
   ]
  },
  {
   "cell_type": "code",
   "execution_count": 2,
   "metadata": {},
   "outputs": [],
   "source": [
    "DATA_DIR = './data/'"
   ]
  },
  {
   "cell_type": "code",
   "execution_count": 3,
   "metadata": {},
   "outputs": [],
   "source": [
    "zurich_df = pd.read_pickle(DATA_DIR + 'zurich_insurance.pkl')"
   ]
  },
  {
   "cell_type": "code",
   "execution_count": 4,
   "metadata": {},
   "outputs": [
    {
     "data": {
      "text/plain": [
       "Index(['JobState', 'Job', 'Civil', 'YearOfBirth', 'Gender', 'Own/Rent', 'Lang',\n",
       "       'Nation', 'ZIP', 'Children_0-26', 'Car1_Canton', 'Car1_Brand',\n",
       "       'Car1_Class', 'Car1_Price', 'Car1_1Imtr', 'Car1_ccm', 'Car1_ClaimsCt5Y',\n",
       "       'Car1_ClaimsSum5Y', 'Car2_Canton', 'Car2_Brand', 'Car2_Class',\n",
       "       'Car2_Price', 'Car2_1Imtr', 'Car2_ccm', 'Car2_ClaimsCt5Y',\n",
       "       'Car2_ClaimsSum5Y', 'Car_Premium', 'HH_Zip', 'HH_Ins_Sum',\n",
       "       'Stand_of_furn', 'Rooms', 'Build_Zip', 'Build_Ins_Sum',\n",
       "       'HHaB_ClaimsCt5Y', 'HHaB_ClaimsSum5Y', 'HH_and_Bld_Prem.', 'BFS'],\n",
       "      dtype='object')"
      ]
     },
     "execution_count": 4,
     "metadata": {},
     "output_type": "execute_result"
    }
   ],
   "source": [
    "# look at features available & data type\n",
    "zurich_df.columns"
   ]
  },
  {
   "cell_type": "markdown",
   "metadata": {},
   "source": [
    "We will only keep number of cars, total car price and total premium with regard to cars and drop other values"
   ]
  },
  {
   "cell_type": "code",
   "execution_count": 5,
   "metadata": {},
   "outputs": [
    {
     "data": {
      "text/plain": [
       "Index(['JobState', 'Job', 'Civil', 'YearOfBirth', 'Gender', 'Own/Rent', 'Lang',\n",
       "       'Nation', 'ZIP', 'Children_0-26', 'Car_Premium', 'HH_Zip', 'HH_Ins_Sum',\n",
       "       'Stand_of_furn', 'Rooms', 'Build_Zip', 'Build_Ins_Sum',\n",
       "       'HHaB_ClaimsCt5Y', 'HHaB_ClaimsSum5Y', 'HH_and_Bld_Prem.', 'BFS',\n",
       "       'num_cars', 'total_car_spending'],\n",
       "      dtype='object')"
      ]
     },
     "execution_count": 5,
     "metadata": {},
     "output_type": "execute_result"
    }
   ],
   "source": [
    "# person's ownership of cars: \n",
    "# The information we want: # car, total car price, total car premium\n",
    "# aggregate # car\n",
    "zurich_df['num_cars'] = (zurich_df['Car1_Price'] > 0).astype(int) + (zurich_df['Car2_Price'] > 0).astype(int)\n",
    "\n",
    "# aggregate total car price\n",
    "zurich_df['total_car_spending'] = zurich_df['Car1_Price'] + zurich_df['Car2_Price']\n",
    "\n",
    "zurich_df = zurich_df.drop(['Car1_Canton', 'Car1_Brand','Car1_Class', 'Car1_Price', \\\n",
    "                            'Car1_1Imtr', 'Car1_ccm', 'Car1_ClaimsCt5Y','Car1_ClaimsSum5Y', \\\n",
    "                            'Car2_Canton', 'Car2_Brand', 'Car2_Class', 'Car2_Price',\\\n",
    "                            'Car2_1Imtr', 'Car2_ccm', 'Car2_ClaimsCt5Y', 'Car2_ClaimsSum5Y'], axis=1)\n",
    "\n",
    "zurich_df.columns"
   ]
  },
  {
   "cell_type": "markdown",
   "metadata": {},
   "source": [
    "We will also keep location, number of rooms and standard of furniture (categorical variable) as well as add a new feature that will represent sum of premium on house/building. Other features regarding ownership properties will be dropped."
   ]
  },
  {
   "cell_type": "code",
   "execution_count": 6,
   "metadata": {},
   "outputs": [
    {
     "data": {
      "text/plain": [
       "Index(['JobState', 'Job', 'Civil', 'YearOfBirth', 'Gender', 'Own/Rent', 'Lang',\n",
       "       'Nation', 'ZIP', 'Children_0-26', 'Car_Premium', 'HH_Zip',\n",
       "       'Stand_of_furn', 'Rooms', 'Build_Zip', 'num_cars', 'total_car_spending',\n",
       "       'property_premium'],\n",
       "      dtype='object')"
      ]
     },
     "execution_count": 6,
     "metadata": {},
     "output_type": "execute_result"
    }
   ],
   "source": [
    "# person's ownership of properties: \n",
    "# keep: location of house & building, # rooms, standard of furniture, sum(premium on hourse/building)\n",
    "zurich_df['property_premium'] = zurich_df['HH_Ins_Sum'].astype(int) + zurich_df['Build_Ins_Sum'].astype(int)\n",
    "zurich_df = zurich_df.drop(['HHaB_ClaimsCt5Y', 'HHaB_ClaimsSum5Y', 'HH_and_Bld_Prem.', 'BFS', 'HH_Ins_Sum', 'Build_Ins_Sum'], axis=1)\n",
    "zurich_df.columns"
   ]
  },
  {
   "cell_type": "markdown",
   "metadata": {},
   "source": [
    "Since we have many different nationalities, we will group them into two categories: 1) Swiss and 2) non Swiss. We might consider more fine grained grouping if needed during analysis"
   ]
  },
  {
   "cell_type": "code",
   "execution_count": 7,
   "metadata": {},
   "outputs": [],
   "source": [
    "# change Nation to Swiss vs Non-Swiss\n",
    "zurich_df['Nation'] = zurich_df['Nation'].apply(lambda x : x.strip())\n",
    "zurich_df['is_swiss'] = (zurich_df['Nation'] == 'CH').astype(str)"
   ]
  },
  {
   "cell_type": "markdown",
   "metadata": {},
   "source": [
    "Then we will identify categorical variables, as well as derive new features such as age (using current and birth year), as well as well as adjust types for some of the features."
   ]
  },
  {
   "cell_type": "code",
   "execution_count": 8,
   "metadata": {},
   "outputs": [],
   "source": [
    "# convert 'JobState', 'Job', 'Civil', 'YearOfBirth', 'Gender', 'Own/Rent', 'Lang', 'Nation' to categorical data\n",
    "for col in ['JobState', 'Job', 'Civil', 'Gender', 'Own/Rent', 'Lang', 'Nation']:\n",
    "    zurich_df[col] = zurich_df[col].astype('category')"
   ]
  },
  {
   "cell_type": "code",
   "execution_count": 9,
   "metadata": {},
   "outputs": [],
   "source": [
    "# calculate age of insurer, also convert the type of standard of furniture & # rooms\n",
    "zurich_df['Age'] = 2018 - zurich_df['YearOfBirth']\n",
    "zurich_df['Stand_of_furn'] = zurich_df['Stand_of_furn'].apply(lambda x : '0' if x.strip() == '' else x.strip()).astype(int)\n",
    "zurich_df['Rooms'] = zurich_df['Rooms'].apply(lambda x : '0' if x.strip() == '' or x.strip() == 'NA' else x.strip()).astype(float)"
   ]
  },
  {
   "cell_type": "markdown",
   "metadata": {},
   "source": [
    "### Aggregate the data of the entries per area (can be one zip code area or Zurich as a whole)\n",
    "###### For categorical data, we calculate the percentage of each category\n",
    "###### For numerical data, we calculate the average"
   ]
  },
  {
   "cell_type": "code",
   "execution_count": 10,
   "metadata": {},
   "outputs": [],
   "source": [
    "def aggregate_categorical_map(df):\n",
    "    '''\n",
    "    given a dataframe, aggregate the categorical data that we want to study\n",
    "    return a map of the form:\n",
    "    category -> {subcategory1: percentage.ect}\n",
    "    '''\n",
    "    aggregation = {}\n",
    "    total = df.shape[0]\n",
    "    for col in ['JobState', 'Civil', 'Gender', 'Own/Rent', 'Lang', 'is_swiss']:\n",
    "        aggregation[col] = {}\n",
    "        for val in df[col].unique():\n",
    "            key = val.strip()\n",
    "            if key == '': key = 'Unknown'\n",
    "            key = '%' + col + '_' + key\n",
    "            aggregation[col][key] = [100*len(df.loc[df[col] == val])/total]\n",
    "    return aggregation"
   ]
  },
  {
   "cell_type": "code",
   "execution_count": 11,
   "metadata": {},
   "outputs": [],
   "source": [
    "def aggregate_numerical_df(df, index):\n",
    "    '''\n",
    "    given a dataframe\n",
    "    return a dataframe where the each column has the average value of that column in the input dataframe\n",
    "    '''\n",
    "    num_aggregation = {}\n",
    "    for col in ['Children_0-26', 'Car_Premium', 'num_cars', 'total_car_spending', 'property_premium', 'Age', 'Stand_of_furn', 'Rooms']:\n",
    "        avg = zurich_df[col].mean()\n",
    "        num_aggregation['Avg_'+col] = [avg]    \n",
    "    return pd.DataFrame(num_aggregation, index=index)"
   ]
  },
  {
   "cell_type": "code",
   "execution_count": 12,
   "metadata": {},
   "outputs": [],
   "source": [
    "# visualize the categorical aggregation data for Zurich\n",
    "agg = aggregate_categorical_map(zurich_df)\n",
    "for category in agg:\n",
    "    data_pd = pd.DataFrame.from_dict(agg[category])\n",
    "    # visualize the dataframe"
   ]
  },
  {
   "cell_type": "code",
   "execution_count": 13,
   "metadata": {},
   "outputs": [
    {
     "data": {
      "text/html": [
       "<div>\n",
       "<style scoped>\n",
       "    .dataframe tbody tr th:only-of-type {\n",
       "        vertical-align: middle;\n",
       "    }\n",
       "\n",
       "    .dataframe tbody tr th {\n",
       "        vertical-align: top;\n",
       "    }\n",
       "\n",
       "    .dataframe thead th {\n",
       "        text-align: right;\n",
       "    }\n",
       "</style>\n",
       "<table border=\"1\" class=\"dataframe\">\n",
       "  <thead>\n",
       "    <tr style=\"text-align: right;\">\n",
       "      <th></th>\n",
       "      <th>Avg_Children_0-26</th>\n",
       "      <th>Avg_Car_Premium</th>\n",
       "      <th>Avg_num_cars</th>\n",
       "      <th>Avg_total_car_spending</th>\n",
       "      <th>Avg_property_premium</th>\n",
       "      <th>Avg_Age</th>\n",
       "      <th>Avg_Stand_of_furn</th>\n",
       "      <th>Avg_Rooms</th>\n",
       "    </tr>\n",
       "  </thead>\n",
       "  <tbody>\n",
       "    <tr>\n",
       "      <th>Zurich</th>\n",
       "      <td>0.216566</td>\n",
       "      <td>240.99307</td>\n",
       "      <td>0.2045</td>\n",
       "      <td>8172.050294</td>\n",
       "      <td>110386.647475</td>\n",
       "      <td>48.702786</td>\n",
       "      <td>0.799014</td>\n",
       "      <td>1.565757</td>\n",
       "    </tr>\n",
       "  </tbody>\n",
       "</table>\n",
       "</div>"
      ],
      "text/plain": [
       "        Avg_Children_0-26  Avg_Car_Premium  Avg_num_cars  \\\n",
       "Zurich           0.216566        240.99307        0.2045   \n",
       "\n",
       "        Avg_total_car_spending  Avg_property_premium    Avg_Age  \\\n",
       "Zurich             8172.050294         110386.647475  48.702786   \n",
       "\n",
       "        Avg_Stand_of_furn  Avg_Rooms  \n",
       "Zurich           0.799014   1.565757  "
      ]
     },
     "execution_count": 13,
     "metadata": {},
     "output_type": "execute_result"
    }
   ],
   "source": [
    "# present the numerical aggregation data for Zurich\n",
    "num_agg_df = aggregate_numerical_df(zurich_df, ['Zurich'])\n",
    "num_agg_df"
   ]
  },
  {
   "cell_type": "markdown",
   "metadata": {},
   "source": [
    "### Group the on the zip code level and study the data for each zip code area"
   ]
  },
  {
   "cell_type": "code",
   "execution_count": 14,
   "metadata": {},
   "outputs": [
    {
     "data": {
      "text/plain": [
       "dict_keys(['8001', '8002', '8003', '8004', '8005', '8006', '8008', '8021', '8022', '8024', '8027', '8031', '8032', '8034', '8036', '8037', '8038', '8040', '8041', '8042', '8044', '8045', '8046', '8047', '8048', '8049', '8050', '8051', '8052', '8053', '8055', '8057', '8064', '8098'])"
      ]
     },
     "execution_count": 14,
     "metadata": {},
     "output_type": "execute_result"
    }
   ],
   "source": [
    "zip_group = zurich_df.groupby('ZIP')\n",
    "# zipcode -> dataframe\n",
    "zip_group_dic = {zip_code: df for (zip_code, df) in zip_group}\n",
    "\n",
    "# all zipcodes\n",
    "zip_group_dic.keys()"
   ]
  },
  {
   "cell_type": "code",
   "execution_count": 15,
   "metadata": {},
   "outputs": [
    {
     "name": "stdout",
     "output_type": "stream",
     "text": [
      "{'8001': 691, '8002': 1093, '8003': 2499, '8004': 3326, '8005': 2089, '8006': 2370, '8008': 1960, '8021': 6, '8022': 4, '8024': 10, '8027': 6, '8031': 5, '8032': 2226, '8034': 2, '8036': 6, '8037': 2159, '8038': 2043, '8040': 4, '8041': 701, '8042': 2, '8044': 1299, '8045': 1197, '8046': 2471, '8047': 2418, '8048': 3038, '8049': 2853, '8050': 2751, '8051': 1924, '8052': 1918, '8053': 1274, '8055': 2297, '8057': 2327, '8064': 267, '8098': 6}\n"
     ]
    }
   ],
   "source": [
    "# number of data in each zip code, use to_dict so it's displayed horizontally to save space\n",
    "data_count = zip_group.size()\n",
    "print(data_count.to_dict())"
   ]
  },
  {
   "cell_type": "code",
   "execution_count": 16,
   "metadata": {},
   "outputs": [],
   "source": [
    "# if the zip code area has < 250 entries, we ignore the region\n",
    "data_count = data_count.to_frame(name='Count')\n",
    "zip_skip = data_count.loc[data_count['Count'] < 250].index"
   ]
  },
  {
   "cell_type": "markdown",
   "metadata": {},
   "source": [
    "### Visualize distributions for the entire city of Zurich"
   ]
  },
  {
   "cell_type": "code",
   "execution_count": 17,
   "metadata": {},
   "outputs": [
    {
     "data": {
      "text/html": [
       "<div>\n",
       "<style scoped>\n",
       "    .dataframe tbody tr th:only-of-type {\n",
       "        vertical-align: middle;\n",
       "    }\n",
       "\n",
       "    .dataframe tbody tr th {\n",
       "        vertical-align: top;\n",
       "    }\n",
       "\n",
       "    .dataframe thead th {\n",
       "        text-align: right;\n",
       "    }\n",
       "</style>\n",
       "<table border=\"1\" class=\"dataframe\">\n",
       "  <thead>\n",
       "    <tr style=\"text-align: right;\">\n",
       "      <th></th>\n",
       "      <th>JobState</th>\n",
       "      <th>Job</th>\n",
       "      <th>Civil</th>\n",
       "      <th>YearOfBirth</th>\n",
       "      <th>Gender</th>\n",
       "      <th>Own/Rent</th>\n",
       "      <th>Lang</th>\n",
       "      <th>Nation</th>\n",
       "      <th>ZIP</th>\n",
       "      <th>Children_0-26</th>\n",
       "      <th>Car_Premium</th>\n",
       "      <th>HH_Zip</th>\n",
       "      <th>Stand_of_furn</th>\n",
       "      <th>Rooms</th>\n",
       "      <th>Build_Zip</th>\n",
       "      <th>num_cars</th>\n",
       "      <th>total_car_spending</th>\n",
       "      <th>property_premium</th>\n",
       "      <th>is_swiss</th>\n",
       "      <th>Age</th>\n",
       "    </tr>\n",
       "  </thead>\n",
       "  <tbody>\n",
       "    <tr>\n",
       "      <th>49</th>\n",
       "      <td></td>\n",
       "      <td>0000                                          ...</td>\n",
       "      <td></td>\n",
       "      <td>1946</td>\n",
       "      <td></td>\n",
       "      <td>E</td>\n",
       "      <td>D</td>\n",
       "      <td></td>\n",
       "      <td>8004</td>\n",
       "      <td>0</td>\n",
       "      <td>0.0</td>\n",
       "      <td>8004</td>\n",
       "      <td>0</td>\n",
       "      <td>0.0</td>\n",
       "      <td>8004</td>\n",
       "      <td>0</td>\n",
       "      <td>0</td>\n",
       "      <td>703000</td>\n",
       "      <td>False</td>\n",
       "      <td>72</td>\n",
       "    </tr>\n",
       "    <tr>\n",
       "      <th>73</th>\n",
       "      <td>Rentner</td>\n",
       "      <td>0000                                          ...</td>\n",
       "      <td>Verwitwet</td>\n",
       "      <td>1935</td>\n",
       "      <td>W</td>\n",
       "      <td>M</td>\n",
       "      <td>D</td>\n",
       "      <td>CH</td>\n",
       "      <td>8032</td>\n",
       "      <td>0</td>\n",
       "      <td>0.0</td>\n",
       "      <td>8032</td>\n",
       "      <td>2</td>\n",
       "      <td>3.5</td>\n",
       "      <td>0</td>\n",
       "      <td>0</td>\n",
       "      <td>0</td>\n",
       "      <td>80000</td>\n",
       "      <td>True</td>\n",
       "      <td>83</td>\n",
       "    </tr>\n",
       "    <tr>\n",
       "      <th>178</th>\n",
       "      <td>Angestellt</td>\n",
       "      <td>0000                                          ...</td>\n",
       "      <td>Verheiratet</td>\n",
       "      <td>1942</td>\n",
       "      <td>M</td>\n",
       "      <td>M</td>\n",
       "      <td>D</td>\n",
       "      <td>CH</td>\n",
       "      <td>8048</td>\n",
       "      <td>0</td>\n",
       "      <td>0.0</td>\n",
       "      <td>8048</td>\n",
       "      <td>0</td>\n",
       "      <td>0.0</td>\n",
       "      <td>0</td>\n",
       "      <td>0</td>\n",
       "      <td>0</td>\n",
       "      <td>85000</td>\n",
       "      <td>True</td>\n",
       "      <td>76</td>\n",
       "    </tr>\n",
       "    <tr>\n",
       "      <th>398</th>\n",
       "      <td>Rentner</td>\n",
       "      <td>0000                                          ...</td>\n",
       "      <td>Verheiratet</td>\n",
       "      <td>1938</td>\n",
       "      <td>M</td>\n",
       "      <td>M</td>\n",
       "      <td>D</td>\n",
       "      <td>SV</td>\n",
       "      <td>8038</td>\n",
       "      <td>0</td>\n",
       "      <td>0.0</td>\n",
       "      <td>8038</td>\n",
       "      <td>0</td>\n",
       "      <td>0.0</td>\n",
       "      <td>0</td>\n",
       "      <td>0</td>\n",
       "      <td>0</td>\n",
       "      <td>95000</td>\n",
       "      <td>False</td>\n",
       "      <td>80</td>\n",
       "    </tr>\n",
       "    <tr>\n",
       "      <th>503</th>\n",
       "      <td>Angestellt</td>\n",
       "      <td>0000                                          ...</td>\n",
       "      <td>Ledig</td>\n",
       "      <td>1961</td>\n",
       "      <td>W</td>\n",
       "      <td>M</td>\n",
       "      <td>D</td>\n",
       "      <td>CH</td>\n",
       "      <td>8037</td>\n",
       "      <td>0</td>\n",
       "      <td>0.0</td>\n",
       "      <td>8037</td>\n",
       "      <td>1</td>\n",
       "      <td>2.0</td>\n",
       "      <td>0</td>\n",
       "      <td>0</td>\n",
       "      <td>0</td>\n",
       "      <td>33000</td>\n",
       "      <td>True</td>\n",
       "      <td>57</td>\n",
       "    </tr>\n",
       "  </tbody>\n",
       "</table>\n",
       "</div>"
      ],
      "text/plain": [
       "          JobState                                                Job  \\\n",
       "49                  0000                                          ...   \n",
       "73   Rentner        0000                                          ...   \n",
       "178  Angestellt     0000                                          ...   \n",
       "398  Rentner        0000                                          ...   \n",
       "503  Angestellt     0000                                          ...   \n",
       "\n",
       "           Civil  YearOfBirth Gender Own/Rent Lang Nation   ZIP  \\\n",
       "49                       1946               E   D          8004   \n",
       "73   Verwitwet           1935      W        M   D      CH  8032   \n",
       "178  Verheiratet         1942      M        M   D      CH  8048   \n",
       "398  Verheiratet         1938      M        M   D      SV  8038   \n",
       "503  Ledig               1961      W        M   D      CH  8037   \n",
       "\n",
       "     Children_0-26  Car_Premium  HH_Zip  Stand_of_furn  Rooms  Build_Zip  \\\n",
       "49               0          0.0    8004              0    0.0       8004   \n",
       "73               0          0.0    8032              2    3.5          0   \n",
       "178              0          0.0    8048              0    0.0          0   \n",
       "398              0          0.0    8038              0    0.0          0   \n",
       "503              0          0.0    8037              1    2.0          0   \n",
       "\n",
       "     num_cars  total_car_spending  property_premium is_swiss  Age  \n",
       "49          0                   0            703000    False   72  \n",
       "73          0                   0             80000     True   83  \n",
       "178         0                   0             85000     True   76  \n",
       "398         0                   0             95000    False   80  \n",
       "503         0                   0             33000     True   57  "
      ]
     },
     "execution_count": 17,
     "metadata": {},
     "output_type": "execute_result"
    }
   ],
   "source": [
    "df_dic = zip_group_dic\n",
    "df_dic['Zurich'] = zurich_df\n",
    "zurich_df.head()"
   ]
  },
  {
   "cell_type": "code",
   "execution_count": 18,
   "metadata": {},
   "outputs": [],
   "source": [
    "def plot_numerical(df_to_plot, ncols):\n",
    "    '''\n",
    "    This function plots the distribution of the data given in the input using histograms.\n",
    "    \n",
    "    Parameters:\n",
    "    df_to_plot = dataframe of data_to_plot, all columns are plotted\n",
    "    '''\n",
    "    nrows= int(1 + df_to_plot.shape[1] // (ncols+0.01))\n",
    "    \n",
    "    f, axs = plt.subplots(nrows,ncols,figsize=(16, nrows*4))\n",
    "    \n",
    "    for k, col in enumerate(df_to_plot.columns):\n",
    "        axs[k].hist(df_to_plot[col],bins=20)\n",
    "        axs[k].grid(color='k', linestyle='-', linewidth=0.2)\n",
    "        axs[k].set_title(col)"
   ]
  },
  {
   "cell_type": "code",
   "execution_count": 19,
   "metadata": {},
   "outputs": [
    {
     "data": {
      "image/png": "[encoded data removed]",
      "text/plain": [
       "<Figure size 1152x288 with 4 Axes>"
      ]
     },
     "metadata": {
      "needs_background": "light"
     },
     "output_type": "display_data"
    }
   ],
   "source": [
    "# plotting some of the numerical data\n",
    "plot_numerical(zurich_df[['Age','num_cars','Rooms','property_premium']],4)"
   ]
  },
  {
   "cell_type": "markdown",
   "metadata": {},
   "source": [
    "### Aggregate the data for each zip code"
   ]
  },
  {
   "cell_type": "markdown",
   "metadata": {},
   "source": [
    "##### aggregate numerical data for each zip code area"
   ]
  },
  {
   "cell_type": "code",
   "execution_count": 20,
   "metadata": {},
   "outputs": [
    {
     "data": {
      "text/html": [
       "<div>\n",
       "<style scoped>\n",
       "    .dataframe tbody tr th:only-of-type {\n",
       "        vertical-align: middle;\n",
       "    }\n",
       "\n",
       "    .dataframe tbody tr th {\n",
       "        vertical-align: top;\n",
       "    }\n",
       "\n",
       "    .dataframe thead th {\n",
       "        text-align: right;\n",
       "    }\n",
       "</style>\n",
       "<table border=\"1\" class=\"dataframe\">\n",
       "  <thead>\n",
       "    <tr style=\"text-align: right;\">\n",
       "      <th></th>\n",
       "      <th>Avg_Children_0-26</th>\n",
       "      <th>Avg_Car_Premium</th>\n",
       "      <th>Avg_num_cars</th>\n",
       "      <th>Avg_total_car_spending</th>\n",
       "      <th>Avg_property_premium</th>\n",
       "      <th>Avg_Age</th>\n",
       "      <th>Avg_Stand_of_furn</th>\n",
       "      <th>Avg_Rooms</th>\n",
       "    </tr>\n",
       "  </thead>\n",
       "  <tbody>\n",
       "    <tr>\n",
       "      <th>8001</th>\n",
       "      <td>0.216566</td>\n",
       "      <td>240.99307</td>\n",
       "      <td>0.2045</td>\n",
       "      <td>8172.050294</td>\n",
       "      <td>110386.647475</td>\n",
       "      <td>48.702786</td>\n",
       "      <td>0.799014</td>\n",
       "      <td>1.565757</td>\n",
       "    </tr>\n",
       "    <tr>\n",
       "      <th>8002</th>\n",
       "      <td>0.216566</td>\n",
       "      <td>240.99307</td>\n",
       "      <td>0.2045</td>\n",
       "      <td>8172.050294</td>\n",
       "      <td>110386.647475</td>\n",
       "      <td>48.702786</td>\n",
       "      <td>0.799014</td>\n",
       "      <td>1.565757</td>\n",
       "    </tr>\n",
       "    <tr>\n",
       "      <th>8003</th>\n",
       "      <td>0.216566</td>\n",
       "      <td>240.99307</td>\n",
       "      <td>0.2045</td>\n",
       "      <td>8172.050294</td>\n",
       "      <td>110386.647475</td>\n",
       "      <td>48.702786</td>\n",
       "      <td>0.799014</td>\n",
       "      <td>1.565757</td>\n",
       "    </tr>\n",
       "  </tbody>\n",
       "</table>\n",
       "</div>"
      ],
      "text/plain": [
       "      Avg_Children_0-26  Avg_Car_Premium  Avg_num_cars  \\\n",
       "8001           0.216566        240.99307        0.2045   \n",
       "8002           0.216566        240.99307        0.2045   \n",
       "8003           0.216566        240.99307        0.2045   \n",
       "\n",
       "      Avg_total_car_spending  Avg_property_premium    Avg_Age  \\\n",
       "8001             8172.050294         110386.647475  48.702786   \n",
       "8002             8172.050294         110386.647475  48.702786   \n",
       "8003             8172.050294         110386.647475  48.702786   \n",
       "\n",
       "      Avg_Stand_of_furn  Avg_Rooms  \n",
       "8001           0.799014   1.565757  \n",
       "8002           0.799014   1.565757  \n",
       "8003           0.799014   1.565757  "
      ]
     },
     "execution_count": 20,
     "metadata": {},
     "output_type": "execute_result"
    }
   ],
   "source": [
    "num_aggregate_all = pd.DataFrame()\n",
    "for area in df_dic:\n",
    "    num_aggregate_all = pd.concat([num_aggregate_all, aggregate_numerical_df(df_dic[area], [area])])\n",
    "num_aggregate_all.head(3)"
   ]
  },
  {
   "cell_type": "markdown",
   "metadata": {},
   "source": [
    "##### aggregate categorical data for each zip code area"
   ]
  },
  {
   "cell_type": "code",
   "execution_count": 21,
   "metadata": {},
   "outputs": [],
   "source": [
    "def get_all_categorical_aggregation(df_dic):\n",
    "    '''\n",
    "    input: {area -> dataframe of the info the area}\n",
    "    return: {category -> df of aggregation data of all area (row: zip; col: data)}\n",
    "    '''\n",
    "    # category -> df of aggregation data of all area (row: zip; col: data)\n",
    "    area_agg_by_category = {}\n",
    "    for area in df_dic:\n",
    "        if area in zip_skip:\n",
    "            continue\n",
    "\n",
    "        aggregation = aggregate_categorical_map(df_dic[area])\n",
    "        for category in aggregation:\n",
    "            df = pd.DataFrame.from_dict(aggregation[category])\n",
    "            df.index = [area+'_']\n",
    "            if category in area_agg_by_category.keys():\n",
    "                area_agg_by_category[category] = pd.concat([area_agg_by_category[category], df])\n",
    "            else:\n",
    "                area_agg_by_category[category] = df\n",
    "    for key in area_agg_by_category:\n",
    "        area_agg_by_category[key] = area_agg_by_category[key].fillna(0.0)\n",
    "    return area_agg_by_category"
   ]
  },
  {
   "cell_type": "code",
   "execution_count": 25,
   "metadata": {},
   "outputs": [
    {
     "name": "stderr",
     "output_type": "stream",
     "text": [
      "C:\\ProgramData\\Anaconda3\\lib\\site-packages\\ipykernel_launcher.py:17: FutureWarning: Sorting because non-concatenation axis is not aligned. A future version\n",
      "of pandas will change to not sort by default.\n",
      "\n",
      "To accept the future behavior, pass 'sort=False'.\n",
      "\n",
      "To retain the current behavior and silence the warning, pass 'sort=True'.\n",
      "\n"
     ]
    }
   ],
   "source": [
    "area_agg_by_category = get_all_categorical_aggregation(df_dic)"
   ]
  },
  {
   "cell_type": "markdown",
   "metadata": {},
   "source": [
    "### Visualize the aggregated categorical data for each area"
   ]
  },
  {
   "cell_type": "code",
   "execution_count": 26,
   "metadata": {},
   "outputs": [],
   "source": [
    "def df_to_vis_string(df, file):\n",
    "    '''\n",
    "    from dataframe, save to the json format that is acceptable by the javascript visualization module\n",
    "    '''\n",
    "    df_dic = {}\n",
    "    df_dic['y'] = list(df.index)\n",
    "    df_dic['x'] = list(df.columns)\n",
    "    df_dic['z'] = []\n",
    "    df_dic['ygap'] = 1\n",
    "    df_dic['xgap'] = 2\n",
    "    df_dic['colorbar'] = {'nticks':12}\n",
    "    for i in range(df.shape[0]):\n",
    "        df_dic['z'].append(list(df.iloc[i]))\n",
    "    df_dic['type'] = 'heatmap'\n",
    "    if file != '':\n",
    "        with open(file, 'w') as fp:\n",
    "            json.dump(df_dic, fp)\n",
    "    return [df_dic]"
   ]
  },
  {
   "cell_type": "code",
   "execution_count": 27,
   "metadata": {},
   "outputs": [],
   "source": [
    "# save to file for javascript visualization\n",
    "for category in area_agg_by_category:\n",
    "    file = category.replace('/', '_') + '.json'\n",
    "    df_to_vis_string(area_agg_by_category[category], file)"
   ]
  },
  {
   "cell_type": "markdown",
   "metadata": {},
   "source": [
    "#### This is an iteractive heatmap visualization. You can load it from jupyternotebook here. Only need to run this one cell"
   ]
  },
  {
   "cell_type": "code",
   "execution_count": 28,
   "metadata": {},
   "outputs": [
    {
     "data": {
      "text/html": [
       "\n",
       "        <iframe\n",
       "            width=\"1000\"\n",
       "            height=\"700\"\n",
       "            src=\"vis_js/index_sync.html\"\n",
       "            frameborder=\"0\"\n",
       "            allowfullscreen\n",
       "        ></iframe>\n",
       "        "
      ],
      "text/plain": [
       "<IPython.lib.display.IFrame at 0x2234bac9588>"
      ]
     },
     "execution_count": 28,
     "metadata": {},
     "output_type": "execute_result"
    }
   ],
   "source": [
    "from IPython.display import IFrame\n",
    "IFrame('vis_js/index_sync.html', width=1000, height=700)"
   ]
  },
  {
   "cell_type": "code",
   "execution_count": null,
   "metadata": {},
   "outputs": [],
   "source": []
  }
 ],
 "metadata": {
  "kernelspec": {
   "display_name": "Python 3",
   "language": "python",
   "name": "python3"
  },
  "language_info": {
   "codemirror_mode": {
    "name": "ipython",
    "version": 3
   },
   "file_extension": ".py",
   "mimetype": "text/x-python",
   "name": "python",
   "nbconvert_exporter": "python",
   "pygments_lexer": "ipython3",
   "version": "3.6.6"
  }
 },
 "nbformat": 4,
 "nbformat_minor": 2
}
