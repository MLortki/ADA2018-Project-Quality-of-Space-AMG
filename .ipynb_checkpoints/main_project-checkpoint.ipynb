{
 "cells": [
  {
   "cell_type": "markdown",
   "metadata": {},
   "source": [
    "# Zurich: a snapshot into Switzerland's economic heart, through the lens of Insurance data.\n"
   ]
  },
  {
   "cell_type": "markdown",
   "metadata": {},
   "source": [
    "## Milestone 2"
   ]
  },
  {
   "cell_type": "markdown",
   "metadata": {},
   "source": [
    "For Milestone 2, we did the following steps:\n",
    "\n",
    "\n",
    "1) Studied Mobiliar insurance dataset, handled missing values, pre-processed some of the features and plotted distribution. Aggregated data for zip code level. For better visualization we created interactive heatmap, since we had many features for each zip code. Details of this process as well as heatmap are contained in notebook: **insurance_data_exploring.ipynb**\n",
    "\n",
    "2) Obtained several ( > 30) datasets from open data Zurich website (list of datasets in ReadMe, as well as in designated notebook). Exploratory data analysis, visualization and data merging regarding those datasets is contained in notebook:  **zurich_open_data_exploration.ipynb**. We used heatmaps as well, for visualization.\n",
    "(**draft_shape_preprocessing.ipynb** contains rough overview of shape files and their content)\n",
    "These datasets, define our metrics of quality of space/life.\n",
    "\n",
    "3) Devised plan for Milestone 3, which is contained in this notebook\n",
    "\n",
    "4) Updated readme file accordingly"
   ]
  },
  {
   "cell_type": "markdown",
   "metadata": {},
   "source": [
    "# Milestone 3 planning\n",
    "\n",
    "1.\tDecide what will be relevant metrics for quality of life/space apart from the obvious ones (also used in numerous literature) such as building density, crime rate, mobility, green space density.\n",
    "Provide background literature for obvious choices and explain logic behind new introduced metrics. Metrics will be chosen among datasets retrieved from open data Zurich.\n",
    "\n",
    "2.\tCreate interactive visualization for population count and metric value distributions on zip-code level.\n",
    "We will create interactive visualization, to include it into our data story. Metrics chosen will be the ones that we were able to predict (explain) using insurance data or the ones that demonstrate some observed insights (presumably, we will utilize js libraries for visualization).\n",
    "\n",
    "3.\tIdentifying indicators of quality of life that can be best predicted by the insurance data. (We will assume that insurance data set will be a substitute for a sample from population and try to predict based on that).\n",
    "We will firstly do feature engineering and then use ml methods to try to predict chosen metrics with insurance data. We will most likely use regression to achieve our goal.  Depending on significance of features, we will try extract insights for out data story and add some more interesting questions to the next step.\n",
    "\n",
    "4.\tExtract insights from the data. Observe how people are distributed in the city and try to explain observed phenomena. Do young people leave in areas with more bars/restaurants or do they prefer green places (with more parks for instance.) Are postal areas with higher average house and car premiums more protected than other areas. (In terms of police offices)? Can we observe a preferential treatment in terms of even number of street lights, pools or nurseries and kindergarten?\n",
    "\n",
    "5.\tSet up data story web-page to discuss the most relevant/interesting findings of the above-mentioned steps. For that, we will need to decide which information to include and explain why it is the most relevant for social good. Create additional visualization depending on need and write a data story.\n"
   ]
  }
 ],
 "metadata": {
  "kernelspec": {
   "display_name": "Python (ada)",
   "language": "python",
   "name": "ada"
  },
  "language_info": {
   "codemirror_mode": {
    "name": "ipython",
    "version": 3
   },
   "file_extension": ".py",
   "mimetype": "text/x-python",
   "name": "python",
   "nbconvert_exporter": "python",
   "pygments_lexer": "ipython3",
   "version": "3.6.6"
  }
 },
 "nbformat": 4,
 "nbformat_minor": 2
}
