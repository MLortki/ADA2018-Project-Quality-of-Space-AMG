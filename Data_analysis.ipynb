{
 "cells": [
  {
   "cell_type": "markdown",
   "metadata": {},
   "source": [
    "# Descriptive Data Analysis of Insurance dataset"
   ]
  },
  {
   "cell_type": "markdown",
   "metadata": {},
   "source": [
    "We will be using Mobiliar insurance dataset. We have to select features we are going to consider for our analysis as well as devise a plan to aggregate data on zip-code level.\n",
    "\n",
    "First of all, we are going to read the dataset and visualize its features:"
   ]
  },
  {
   "cell_type": "code",
   "execution_count": 1,
   "metadata": {},
   "outputs": [],
   "source": [
    "import json\n",
    "import pandas as pd\n",
    "import numpy as np\n",
    "import matplotlib.pyplot as plt\n",
    "from os import listdir"
   ]
  },
  {
   "cell_type": "code",
   "execution_count": 2,
   "metadata": {},
   "outputs": [],
   "source": [
    "DATA_DIR = './data/'"
   ]
  },
  {
   "cell_type": "code",
   "execution_count": 3,
   "metadata": {},
   "outputs": [],
   "source": [
    "zurich_df = pd.read_pickle(DATA_DIR + 'zurich_insurance.pkl')"
   ]
  },
  {
   "cell_type": "code",
   "execution_count": 4,
   "metadata": {},
   "outputs": [
    {
     "data": {
      "text/plain": [
       "Index(['JobState', 'Job', 'Civil', 'YearOfBirth', 'Gender', 'Own/Rent', 'Lang',\n",
       "       'Nation', 'ZIP', 'Children_0-26', 'Car1_Canton', 'Car1_Brand',\n",
       "       'Car1_Class', 'Car1_Price', 'Car1_1Imtr', 'Car1_ccm', 'Car1_ClaimsCt5Y',\n",
       "       'Car1_ClaimsSum5Y', 'Car2_Canton', 'Car2_Brand', 'Car2_Class',\n",
       "       'Car2_Price', 'Car2_1Imtr', 'Car2_ccm', 'Car2_ClaimsCt5Y',\n",
       "       'Car2_ClaimsSum5Y', 'Car_Premium', 'HH_Zip', 'HH_Ins_Sum',\n",
       "       'Stand_of_furn', 'Rooms', 'Build_Zip', 'Build_Ins_Sum',\n",
       "       'HHaB_ClaimsCt5Y', 'HHaB_ClaimsSum5Y', 'HH_and_Bld_Prem.', 'BFS'],\n",
       "      dtype='object')"
      ]
     },
     "execution_count": 4,
     "metadata": {},
     "output_type": "execute_result"
    }
   ],
   "source": [
    "# look at features available & data type\n",
    "zurich_df.columns"
   ]
  },
  {
   "cell_type": "markdown",
   "metadata": {},
   "source": [
    "We will only keep number of cars, total car price and total premium with regard to cars and drop other values"
   ]
  },
  {
   "cell_type": "code",
   "execution_count": 5,
   "metadata": {},
   "outputs": [
    {
     "data": {
      "text/plain": [
       "Index(['JobState', 'Job', 'Civil', 'YearOfBirth', 'Gender', 'Own/Rent', 'Lang',\n",
       "       'Nation', 'ZIP', 'Children_0-26', 'Car_Premium', 'HH_Zip', 'HH_Ins_Sum',\n",
       "       'Stand_of_furn', 'Rooms', 'Build_Zip', 'Build_Ins_Sum',\n",
       "       'HHaB_ClaimsCt5Y', 'HHaB_ClaimsSum5Y', 'HH_and_Bld_Prem.', 'BFS',\n",
       "       'num_cars', 'total_car_spending'],\n",
       "      dtype='object')"
      ]
     },
     "execution_count": 5,
     "metadata": {},
     "output_type": "execute_result"
    }
   ],
   "source": [
    "# person's ownership of cars: \n",
    "# The information we want: # car, total car price, total car premium\n",
    "# aggregate # car\n",
    "zurich_df['num_cars'] = (zurich_df['Car1_Price'] > 0).astype(int) + (zurich_df['Car2_Price'] > 0).astype(int)\n",
    "\n",
    "# aggregate total car price\n",
    "zurich_df['total_car_spending'] = zurich_df['Car1_Price'] + zurich_df['Car2_Price']\n",
    "\n",
    "zurich_df = zurich_df.drop(['Car1_Canton', 'Car1_Brand','Car1_Class', 'Car1_Price', \\\n",
    "                            'Car1_1Imtr', 'Car1_ccm', 'Car1_ClaimsCt5Y','Car1_ClaimsSum5Y', \\\n",
    "                            'Car2_Canton', 'Car2_Brand', 'Car2_Class', 'Car2_Price',\\\n",
    "                            'Car2_1Imtr', 'Car2_ccm', 'Car2_ClaimsCt5Y', 'Car2_ClaimsSum5Y'], axis=1)\n",
    "\n",
    "zurich_df.columns"
   ]
  },
  {
   "cell_type": "markdown",
   "metadata": {},
   "source": [
    "We will also keep location, number of rooms and standard of furniture (categorical variable) as well as add a new feature that will represent sum of premium on house/building. Other features regarding ownership properties will be dropped."
   ]
  },
  {
   "cell_type": "code",
   "execution_count": 6,
   "metadata": {},
   "outputs": [
    {
     "data": {
      "text/plain": [
       "Index(['JobState', 'Job', 'Civil', 'YearOfBirth', 'Gender', 'Own/Rent', 'Lang',\n",
       "       'Nation', 'ZIP', 'Children_0-26', 'Car_Premium', 'HH_Zip',\n",
       "       'Stand_of_furn', 'Rooms', 'Build_Zip', 'num_cars', 'total_car_spending',\n",
       "       'property_premium'],\n",
       "      dtype='object')"
      ]
     },
     "execution_count": 6,
     "metadata": {},
     "output_type": "execute_result"
    }
   ],
   "source": [
    "# person's ownership of properties: \n",
    "# keep: location of house & building, # rooms, standard of furniture, sum(premium on hourse/building)\n",
    "zurich_df['property_premium'] = zurich_df['HH_Ins_Sum'].astype(int) + zurich_df['Build_Ins_Sum'].astype(int)\n",
    "zurich_df = zurich_df.drop(['HHaB_ClaimsCt5Y', 'HHaB_ClaimsSum5Y', 'HH_and_Bld_Prem.', 'BFS', 'HH_Ins_Sum', 'Build_Ins_Sum'], axis=1)\n",
    "zurich_df.columns"
   ]
  },
  {
   "cell_type": "markdown",
   "metadata": {},
   "source": [
    "Since we have many different nationalities, we will group them into two categories: 1) Swiss and 2) non Swiss. We might consider more fine grained grouping if needed during analysis"
   ]
  },
  {
   "cell_type": "code",
   "execution_count": 7,
   "metadata": {},
   "outputs": [],
   "source": [
    "# change Nation to Swiss vs Non-Swiss\n",
    "zurich_df['Nation'] = zurich_df['Nation'].apply(lambda x : x.strip())\n",
    "zurich_df['is_swiss'] = (zurich_df['Nation'] == 'CH').astype(str)"
   ]
  },
  {
   "cell_type": "markdown",
   "metadata": {},
   "source": [
    "Then we will identify categorical variables, as well as derive new features such as age (using current and birth year), as well as well as adjust types for some of the features."
   ]
  },
  {
   "cell_type": "code",
   "execution_count": 8,
   "metadata": {},
   "outputs": [],
   "source": [
    "# convert 'JobState', 'Job', 'Civil', 'YearOfBirth', 'Gender', 'Own/Rent', 'Lang', 'Nation' to categorical data\n",
    "for col in ['JobState', 'Job', 'Civil', 'Gender', 'Own/Rent', 'Lang', 'Nation']:\n",
    "    zurich_df[col] = zurich_df[col].astype('category')"
   ]
  },
  {
   "cell_type": "code",
   "execution_count": 9,
   "metadata": {},
   "outputs": [],
   "source": [
    "# calculate age of insurer, also convert the type of standard of furniture & # rooms\n",
    "zurich_df['Age'] = 2018 - zurich_df['YearOfBirth']\n",
    "zurich_df['Stand_of_furn'] = zurich_df['Stand_of_furn'].apply(lambda x : '0' if x.strip() == '' else x.strip()).astype(int)\n",
    "zurich_df['Rooms'] = zurich_df['Rooms'].apply(lambda x : '0' if x.strip() == '' or x.strip() == 'NA' else x.strip()).astype(float)"
   ]
  },
  {
   "cell_type": "markdown",
   "metadata": {},
   "source": [
    "### Aggregate the data of the entries per area (can be one zip code area or Zurich as a whole)\n",
    "###### For categorical data, we calculate the percentage of each category\n",
    "###### For numerical data, we calculate the average"
   ]
  },
  {
   "cell_type": "code",
   "execution_count": 10,
   "metadata": {},
   "outputs": [],
   "source": [
    "def aggregate_categorical_map(df):\n",
    "    '''\n",
    "    given a dataframe, aggregate the categorical data that we want to study\n",
    "    return a map of the form:\n",
    "    category -> {subcategory1: percentage.ect}\n",
    "    '''\n",
    "    aggregation = {}\n",
    "    total = df.shape[0]\n",
    "    for col in ['JobState', 'Civil', 'Gender', 'Own/Rent', 'Lang', 'is_swiss']:\n",
    "        aggregation[col] = {}\n",
    "        for val in df[col].unique():\n",
    "            key = val.strip()\n",
    "            if key == '': key = 'Unknown'\n",
    "            key = '%' + col + '_' + key\n",
    "            aggregation[col][key] = [100*len(df.loc[df[col] == val])/total]\n",
    "    return aggregation"
   ]
  },
  {
   "cell_type": "code",
   "execution_count": 11,
   "metadata": {},
   "outputs": [],
   "source": [
    "def aggregate_numerical_df(df, index):\n",
    "    '''\n",
    "    given a dataframe\n",
    "    return a dataframe where the each column has the average value of that column in the input dataframe\n",
    "    '''\n",
    "    num_aggregation = {}\n",
    "    for col in ['Children_0-26', 'Car_Premium', 'num_cars', 'total_car_spending', 'property_premium', 'Age', 'Stand_of_furn', 'Rooms']:\n",
    "        avg = zurich_df[col].mean()\n",
    "        num_aggregation['Avg_'+col] = [avg]    \n",
    "    return pd.DataFrame(num_aggregation, index=index)"
   ]
  },
  {
   "cell_type": "code",
   "execution_count": 12,
   "metadata": {},
   "outputs": [],
   "source": [
    "# visualize the categorical aggregation data for Zurich\n",
    "agg = aggregate_categorical_map(zurich_df)\n",
    "for category in agg:\n",
    "    data_pd = pd.DataFrame.from_dict(agg[category])\n",
    "    # visualize the dataframe"
   ]
  },
  {
   "cell_type": "code",
   "execution_count": 13,
   "metadata": {},
   "outputs": [
    {
     "data": {
      "text/html": [
       "<div>\n",
       "<style scoped>\n",
       "    .dataframe tbody tr th:only-of-type {\n",
       "        vertical-align: middle;\n",
       "    }\n",
       "\n",
       "    .dataframe tbody tr th {\n",
       "        vertical-align: top;\n",
       "    }\n",
       "\n",
       "    .dataframe thead th {\n",
       "        text-align: right;\n",
       "    }\n",
       "</style>\n",
       "<table border=\"1\" class=\"dataframe\">\n",
       "  <thead>\n",
       "    <tr style=\"text-align: right;\">\n",
       "      <th></th>\n",
       "      <th>Avg_Children_0-26</th>\n",
       "      <th>Avg_Car_Premium</th>\n",
       "      <th>Avg_num_cars</th>\n",
       "      <th>Avg_total_car_spending</th>\n",
       "      <th>Avg_property_premium</th>\n",
       "      <th>Avg_Age</th>\n",
       "      <th>Avg_Stand_of_furn</th>\n",
       "      <th>Avg_Rooms</th>\n",
       "    </tr>\n",
       "  </thead>\n",
       "  <tbody>\n",
       "    <tr>\n",
       "      <th>Zurich</th>\n",
       "      <td>0.216566</td>\n",
       "      <td>240.99307</td>\n",
       "      <td>0.2045</td>\n",
       "      <td>8172.050294</td>\n",
       "      <td>110386.647475</td>\n",
       "      <td>48.702786</td>\n",
       "      <td>0.799014</td>\n",
       "      <td>1.565757</td>\n",
       "    </tr>\n",
       "  </tbody>\n",
       "</table>\n",
       "</div>"
      ],
      "text/plain": [
       "        Avg_Children_0-26  Avg_Car_Premium  Avg_num_cars  \\\n",
       "Zurich           0.216566        240.99307        0.2045   \n",
       "\n",
       "        Avg_total_car_spending  Avg_property_premium    Avg_Age  \\\n",
       "Zurich             8172.050294         110386.647475  48.702786   \n",
       "\n",
       "        Avg_Stand_of_furn  Avg_Rooms  \n",
       "Zurich           0.799014   1.565757  "
      ]
     },
     "execution_count": 13,
     "metadata": {},
     "output_type": "execute_result"
    }
   ],
   "source": [
    "# present the numerical aggregation data for Zurich\n",
    "num_agg_df = aggregate_numerical_df(zurich_df, ['Zurich'])\n",
    "num_agg_df"
   ]
  },
  {
   "cell_type": "markdown",
   "metadata": {},
   "source": [
    "### Group the on the zip code level and study the data for each zip code area"
   ]
  },
  {
   "cell_type": "code",
   "execution_count": 14,
   "metadata": {},
   "outputs": [
    {
     "data": {
      "text/plain": [
       "dict_keys(['8001', '8002', '8003', '8004', '8005', '8006', '8008', '8021', '8022', '8024', '8027', '8031', '8032', '8034', '8036', '8037', '8038', '8040', '8041', '8042', '8044', '8045', '8046', '8047', '8048', '8049', '8050', '8051', '8052', '8053', '8055', '8057', '8064', '8098'])"
      ]
     },
     "execution_count": 14,
     "metadata": {},
     "output_type": "execute_result"
    }
   ],
   "source": [
    "zip_group = zurich_df.groupby('ZIP')\n",
    "# zipcode -> dataframe\n",
    "zip_group_dic = {zip_code: df for (zip_code, df) in zip_group}\n",
    "\n",
    "# all zipcodes\n",
    "zip_group_dic.keys()"
   ]
  },
  {
   "cell_type": "code",
   "execution_count": 15,
   "metadata": {},
   "outputs": [
    {
     "name": "stdout",
     "output_type": "stream",
     "text": [
      "{'8001': 691, '8002': 1093, '8003': 2499, '8004': 3326, '8005': 2089, '8006': 2370, '8008': 1960, '8021': 6, '8022': 4, '8024': 10, '8027': 6, '8031': 5, '8032': 2226, '8034': 2, '8036': 6, '8037': 2159, '8038': 2043, '8040': 4, '8041': 701, '8042': 2, '8044': 1299, '8045': 1197, '8046': 2471, '8047': 2418, '8048': 3038, '8049': 2853, '8050': 2751, '8051': 1924, '8052': 1918, '8053': 1274, '8055': 2297, '8057': 2327, '8064': 267, '8098': 6}\n"
     ]
    }
   ],
   "source": [
    "# number of data in each zip code, use to_dict so it's displayed horizontally to save space\n",
    "data_count = zip_group.size()\n",
    "print(data_count.to_dict())"
   ]
  },
  {
   "cell_type": "code",
   "execution_count": 16,
   "metadata": {},
   "outputs": [],
   "source": [
    "# if the zip code area has < 250 entries, we ignore the region\n",
    "data_count = data_count.to_frame(name='Count')\n",
    "zip_skip = data_count.loc[data_count['Count'] < 250].index"
   ]
  },
  {
   "cell_type": "markdown",
   "metadata": {},
   "source": [
    "### Visualize distributions for the entire city of Zurich"
   ]
  },
  {
   "cell_type": "code",
   "execution_count": 17,
   "metadata": {},
   "outputs": [
    {
     "data": {
      "text/html": [
       "<div>\n",
       "<style scoped>\n",
       "    .dataframe tbody tr th:only-of-type {\n",
       "        vertical-align: middle;\n",
       "    }\n",
       "\n",
       "    .dataframe tbody tr th {\n",
       "        vertical-align: top;\n",
       "    }\n",
       "\n",
       "    .dataframe thead th {\n",
       "        text-align: right;\n",
       "    }\n",
       "</style>\n",
       "<table border=\"1\" class=\"dataframe\">\n",
       "  <thead>\n",
       "    <tr style=\"text-align: right;\">\n",
       "      <th></th>\n",
       "      <th>JobState</th>\n",
       "      <th>Job</th>\n",
       "      <th>Civil</th>\n",
       "      <th>YearOfBirth</th>\n",
       "      <th>Gender</th>\n",
       "      <th>Own/Rent</th>\n",
       "      <th>Lang</th>\n",
       "      <th>Nation</th>\n",
       "      <th>ZIP</th>\n",
       "      <th>Children_0-26</th>\n",
       "      <th>Car_Premium</th>\n",
       "      <th>HH_Zip</th>\n",
       "      <th>Stand_of_furn</th>\n",
       "      <th>Rooms</th>\n",
       "      <th>Build_Zip</th>\n",
       "      <th>num_cars</th>\n",
       "      <th>total_car_spending</th>\n",
       "      <th>property_premium</th>\n",
       "      <th>is_swiss</th>\n",
       "      <th>Age</th>\n",
       "    </tr>\n",
       "  </thead>\n",
       "  <tbody>\n",
       "    <tr>\n",
       "      <th>49</th>\n",
       "      <td></td>\n",
       "      <td>0000                                          ...</td>\n",
       "      <td></td>\n",
       "      <td>1946</td>\n",
       "      <td></td>\n",
       "      <td>E</td>\n",
       "      <td>D</td>\n",
       "      <td></td>\n",
       "      <td>8004</td>\n",
       "      <td>0</td>\n",
       "      <td>0.0</td>\n",
       "      <td>8004</td>\n",
       "      <td>0</td>\n",
       "      <td>0.0</td>\n",
       "      <td>8004</td>\n",
       "      <td>0</td>\n",
       "      <td>0</td>\n",
       "      <td>703000</td>\n",
       "      <td>False</td>\n",
       "      <td>72</td>\n",
       "    </tr>\n",
       "    <tr>\n",
       "      <th>73</th>\n",
       "      <td>Rentner</td>\n",
       "      <td>0000                                          ...</td>\n",
       "      <td>Verwitwet</td>\n",
       "      <td>1935</td>\n",
       "      <td>W</td>\n",
       "      <td>M</td>\n",
       "      <td>D</td>\n",
       "      <td>CH</td>\n",
       "      <td>8032</td>\n",
       "      <td>0</td>\n",
       "      <td>0.0</td>\n",
       "      <td>8032</td>\n",
       "      <td>2</td>\n",
       "      <td>3.5</td>\n",
       "      <td>0</td>\n",
       "      <td>0</td>\n",
       "      <td>0</td>\n",
       "      <td>80000</td>\n",
       "      <td>True</td>\n",
       "      <td>83</td>\n",
       "    </tr>\n",
       "    <tr>\n",
       "      <th>178</th>\n",
       "      <td>Angestellt</td>\n",
       "      <td>0000                                          ...</td>\n",
       "      <td>Verheiratet</td>\n",
       "      <td>1942</td>\n",
       "      <td>M</td>\n",
       "      <td>M</td>\n",
       "      <td>D</td>\n",
       "      <td>CH</td>\n",
       "      <td>8048</td>\n",
       "      <td>0</td>\n",
       "      <td>0.0</td>\n",
       "      <td>8048</td>\n",
       "      <td>0</td>\n",
       "      <td>0.0</td>\n",
       "      <td>0</td>\n",
       "      <td>0</td>\n",
       "      <td>0</td>\n",
       "      <td>85000</td>\n",
       "      <td>True</td>\n",
       "      <td>76</td>\n",
       "    </tr>\n",
       "    <tr>\n",
       "      <th>398</th>\n",
       "      <td>Rentner</td>\n",
       "      <td>0000                                          ...</td>\n",
       "      <td>Verheiratet</td>\n",
       "      <td>1938</td>\n",
       "      <td>M</td>\n",
       "      <td>M</td>\n",
       "      <td>D</td>\n",
       "      <td>SV</td>\n",
       "      <td>8038</td>\n",
       "      <td>0</td>\n",
       "      <td>0.0</td>\n",
       "      <td>8038</td>\n",
       "      <td>0</td>\n",
       "      <td>0.0</td>\n",
       "      <td>0</td>\n",
       "      <td>0</td>\n",
       "      <td>0</td>\n",
       "      <td>95000</td>\n",
       "      <td>False</td>\n",
       "      <td>80</td>\n",
       "    </tr>\n",
       "    <tr>\n",
       "      <th>503</th>\n",
       "      <td>Angestellt</td>\n",
       "      <td>0000                                          ...</td>\n",
       "      <td>Ledig</td>\n",
       "      <td>1961</td>\n",
       "      <td>W</td>\n",
       "      <td>M</td>\n",
       "      <td>D</td>\n",
       "      <td>CH</td>\n",
       "      <td>8037</td>\n",
       "      <td>0</td>\n",
       "      <td>0.0</td>\n",
       "      <td>8037</td>\n",
       "      <td>1</td>\n",
       "      <td>2.0</td>\n",
       "      <td>0</td>\n",
       "      <td>0</td>\n",
       "      <td>0</td>\n",
       "      <td>33000</td>\n",
       "      <td>True</td>\n",
       "      <td>57</td>\n",
       "    </tr>\n",
       "  </tbody>\n",
       "</table>\n",
       "</div>"
      ],
      "text/plain": [
       "          JobState                                                Job  \\\n",
       "49                  0000                                          ...   \n",
       "73   Rentner        0000                                          ...   \n",
       "178  Angestellt     0000                                          ...   \n",
       "398  Rentner        0000                                          ...   \n",
       "503  Angestellt     0000                                          ...   \n",
       "\n",
       "           Civil  YearOfBirth Gender Own/Rent Lang Nation   ZIP  \\\n",
       "49                       1946               E   D          8004   \n",
       "73   Verwitwet           1935      W        M   D      CH  8032   \n",
       "178  Verheiratet         1942      M        M   D      CH  8048   \n",
       "398  Verheiratet         1938      M        M   D      SV  8038   \n",
       "503  Ledig               1961      W        M   D      CH  8037   \n",
       "\n",
       "     Children_0-26  Car_Premium  HH_Zip  Stand_of_furn  Rooms  Build_Zip  \\\n",
       "49               0          0.0    8004              0    0.0       8004   \n",
       "73               0          0.0    8032              2    3.5          0   \n",
       "178              0          0.0    8048              0    0.0          0   \n",
       "398              0          0.0    8038              0    0.0          0   \n",
       "503              0          0.0    8037              1    2.0          0   \n",
       "\n",
       "     num_cars  total_car_spending  property_premium is_swiss  Age  \n",
       "49          0                   0            703000    False   72  \n",
       "73          0                   0             80000     True   83  \n",
       "178         0                   0             85000     True   76  \n",
       "398         0                   0             95000    False   80  \n",
       "503         0                   0             33000     True   57  "
      ]
     },
     "execution_count": 17,
     "metadata": {},
     "output_type": "execute_result"
    }
   ],
   "source": [
    "df_dic = zip_group_dic\n",
    "df_dic['Zurich'] = zurich_df\n",
    "zurich_df.head()"
   ]
  },
  {
   "cell_type": "code",
   "execution_count": 18,
   "metadata": {},
   "outputs": [],
   "source": [
    "def plot_numerical(df_to_plot, ncols):\n",
    "    '''\n",
    "    This function plots the distribution of the data given in the input using histograms.\n",
    "    \n",
    "    Parameters:\n",
    "    df_to_plot = dataframe of data_to_plot, all columns are plotted\n",
    "    '''\n",
    "    nrows= int(1 + df_to_plot.shape[1] // (ncols+0.01))\n",
    "    \n",
    "    f, axs = plt.subplots(nrows,ncols,figsize=(16, nrows*4))\n",
    "    \n",
    "    for k, col in enumerate(df_to_plot.columns):\n",
    "        axs[k].hist(df_to_plot[col],bins=20)\n",
    "        axs[k].grid(color='k', linestyle='-', linewidth=0.2)\n",
    "        axs[k].set_title(col)"
   ]
  },
  {
   "cell_type": "code",
   "execution_count": 19,
   "metadata": {},
   "outputs": [
    {
     "data": {
      "image/png": "[encoded data removed]",
      "text/plain": [
       "<Figure size 1152x288 with 4 Axes>"
      ]
     },
     "metadata": {
      "needs_background": "light"
     },
     "output_type": "display_data"
    }
   ],
   "source": [
    "# plotting some of the numerical data\n",
    "plot_numerical(zurich_df[['Age','num_cars','Rooms','property_premium']],4)"
   ]
  },
  {
   "cell_type": "markdown",
   "metadata": {},
   "source": [
    "### Aggregate the data for each zip code"
   ]
  },
  {
   "cell_type": "markdown",
   "metadata": {},
   "source": [
    "##### aggregate numerical data for each zip code area"
   ]
  },
  {
   "cell_type": "code",
   "execution_count": 20,
   "metadata": {},
   "outputs": [
    {
     "data": {
      "text/html": [
       "<div>\n",
       "<style scoped>\n",
       "    .dataframe tbody tr th:only-of-type {\n",
       "        vertical-align: middle;\n",
       "    }\n",
       "\n",
       "    .dataframe tbody tr th {\n",
       "        vertical-align: top;\n",
       "    }\n",
       "\n",
       "    .dataframe thead th {\n",
       "        text-align: right;\n",
       "    }\n",
       "</style>\n",
       "<table border=\"1\" class=\"dataframe\">\n",
       "  <thead>\n",
       "    <tr style=\"text-align: right;\">\n",
       "      <th></th>\n",
       "      <th>Avg_Children_0-26</th>\n",
       "      <th>Avg_Car_Premium</th>\n",
       "      <th>Avg_num_cars</th>\n",
       "      <th>Avg_total_car_spending</th>\n",
       "      <th>Avg_property_premium</th>\n",
       "      <th>Avg_Age</th>\n",
       "      <th>Avg_Stand_of_furn</th>\n",
       "      <th>Avg_Rooms</th>\n",
       "    </tr>\n",
       "  </thead>\n",
       "  <tbody>\n",
       "    <tr>\n",
       "      <th>8001</th>\n",
       "      <td>0.216566</td>\n",
       "      <td>240.99307</td>\n",
       "      <td>0.2045</td>\n",
       "      <td>8172.050294</td>\n",
       "      <td>110386.647475</td>\n",
       "      <td>48.702786</td>\n",
       "      <td>0.799014</td>\n",
       "      <td>1.565757</td>\n",
       "    </tr>\n",
       "    <tr>\n",
       "      <th>8002</th>\n",
       "      <td>0.216566</td>\n",
       "      <td>240.99307</td>\n",
       "      <td>0.2045</td>\n",
       "      <td>8172.050294</td>\n",
       "      <td>110386.647475</td>\n",
       "      <td>48.702786</td>\n",
       "      <td>0.799014</td>\n",
       "      <td>1.565757</td>\n",
       "    </tr>\n",
       "    <tr>\n",
       "      <th>8003</th>\n",
       "      <td>0.216566</td>\n",
       "      <td>240.99307</td>\n",
       "      <td>0.2045</td>\n",
       "      <td>8172.050294</td>\n",
       "      <td>110386.647475</td>\n",
       "      <td>48.702786</td>\n",
       "      <td>0.799014</td>\n",
       "      <td>1.565757</td>\n",
       "    </tr>\n",
       "  </tbody>\n",
       "</table>\n",
       "</div>"
      ],
      "text/plain": [
       "      Avg_Children_0-26  Avg_Car_Premium  Avg_num_cars  \\\n",
       "8001           0.216566        240.99307        0.2045   \n",
       "8002           0.216566        240.99307        0.2045   \n",
       "8003           0.216566        240.99307        0.2045   \n",
       "\n",
       "      Avg_total_car_spending  Avg_property_premium    Avg_Age  \\\n",
       "8001             8172.050294         110386.647475  48.702786   \n",
       "8002             8172.050294         110386.647475  48.702786   \n",
       "8003             8172.050294         110386.647475  48.702786   \n",
       "\n",
       "      Avg_Stand_of_furn  Avg_Rooms  \n",
       "8001           0.799014   1.565757  \n",
       "8002           0.799014   1.565757  \n",
       "8003           0.799014   1.565757  "
      ]
     },
     "execution_count": 20,
     "metadata": {},
     "output_type": "execute_result"
    }
   ],
   "source": [
    "num_aggregate_all = pd.DataFrame()\n",
    "for area in df_dic:\n",
    "    num_aggregate_all = pd.concat([num_aggregate_all, aggregate_numerical_df(df_dic[area], [area])])\n",
    "num_aggregate_all.head(3)"
   ]
  },
  {
   "cell_type": "markdown",
   "metadata": {},
   "source": [
    "##### aggregate categorical data for each zip code area"
   ]
  },
  {
   "cell_type": "code",
   "execution_count": 21,
   "metadata": {},
   "outputs": [],
   "source": [
    "def get_all_categorical_aggregation(df_dic):\n",
    "    '''\n",
    "    input: {area -> dataframe of the info the area}\n",
    "    return: {category -> df of aggregation data of all area (row: zip; col: data)}\n",
    "    '''\n",
    "    # category -> df of aggregation data of all area (row: zip; col: data)\n",
    "    area_agg_by_category = {}\n",
    "    for area in df_dic:\n",
    "        if area in zip_skip:\n",
    "            continue\n",
    "\n",
    "        aggregation = aggregate_categorical_map(df_dic[area])\n",
    "        for category in aggregation:\n",
    "            df = pd.DataFrame.from_dict(aggregation[category])\n",
    "            df.index = [area+'_']\n",
    "            if category in area_agg_by_category.keys():\n",
    "                area_agg_by_category[category] = pd.concat([area_agg_by_category[category], df])\n",
    "            else:\n",
    "                area_agg_by_category[category] = df\n",
    "    for key in area_agg_by_category:\n",
    "        area_agg_by_category[key] = area_agg_by_category[key].fillna(0.0)\n",
    "    return area_agg_by_category"
   ]
  },
  {
   "cell_type": "code",
   "execution_count": 25,
   "metadata": {},
   "outputs": [
    {
     "name": "stderr",
     "output_type": "stream",
     "text": [
      "C:\\ProgramData\\Anaconda3\\lib\\site-packages\\ipykernel_launcher.py:17: FutureWarning: Sorting because non-concatenation axis is not aligned. A future version\n",
      "of pandas will change to not sort by default.\n",
      "\n",
      "To accept the future behavior, pass 'sort=False'.\n",
      "\n",
      "To retain the current behavior and silence the warning, pass 'sort=True'.\n",
      "\n"
     ]
    }
   ],
   "source": [
    "area_agg_by_category = get_all_categorical_aggregation(df_dic)"
   ]
  },
  {
   "cell_type": "markdown",
   "metadata": {},
   "source": [
    "### Visualize the aggregated categorical data for each area"
   ]
  },
  {
   "cell_type": "code",
   "execution_count": 26,
   "metadata": {},
   "outputs": [],
   "source": [
    "def df_to_vis_string(df, file):\n",
    "    '''\n",
    "    from dataframe, save to the json format that is acceptable by the javascript visualization module\n",
    "    '''\n",
    "    df_dic = {}\n",
    "    df_dic['y'] = list(df.index)\n",
    "    df_dic['x'] = list(df.columns)\n",
    "    df_dic['z'] = []\n",
    "    df_dic['ygap'] = 1\n",
    "    df_dic['xgap'] = 2\n",
    "    df_dic['colorbar'] = {'nticks':12}\n",
    "    for i in range(df.shape[0]):\n",
    "        df_dic['z'].append(list(df.iloc[i]))\n",
    "    df_dic['type'] = 'heatmap'\n",
    "    if file != '':\n",
    "        with open(file, 'w') as fp:\n",
    "            json.dump(df_dic, fp)\n",
    "    return [df_dic]"
   ]
  },
  {
   "cell_type": "code",
   "execution_count": 27,
   "metadata": {},
   "outputs": [],
   "source": [
    "# save to file for javascript visualization\n",
    "for category in area_agg_by_category:\n",
    "    file = category.replace('/', '_') + '.json'\n",
    "    df_to_vis_string(area_agg_by_category[category], file)"
   ]
  },
  {
   "cell_type": "markdown",
   "metadata": {},
   "source": [
    "#### This is an iteractive heatmap visualization. You can load it from jupyternotebook here. Only need to run this one cell"
   ]
  },
  {
   "cell_type": "code",
   "execution_count": 28,
   "metadata": {},
   "outputs": [
    {
     "data": {
      "text/html": [
       "\n",
       "        <iframe\n",
       "            width=\"1000\"\n",
       "            height=\"700\"\n",
       "            src=\"vis_js/index_sync.html\"\n",
       "            frameborder=\"0\"\n",
       "            allowfullscreen\n",
       "        ></iframe>\n",
       "        "
      ],
      "text/plain": [
       "<IPython.lib.display.IFrame at 0x2234bac9588>"
      ]
     },
     "execution_count": 28,
     "metadata": {},
     "output_type": "execute_result"
    }
   ],
   "source": [
    "from IPython.display import IFrame\n",
    "IFrame('vis_js/index_sync.html', width=1000, height=700)"
   ]
  },
  {
   "cell_type": "code",
   "execution_count": null,
   "metadata": {},
   "outputs": [],
   "source": []
  },
  {
   "cell_type": "markdown",
   "metadata": {},
   "source": [
    "# Zurich open data exploration\n",
    "\n",
    "## Reading csv, json and shape format datasets. Combining them into one central file, and visualizing some elements.\n",
    "\n",
    "One of the goals of our project is to study urban environment of Zurich city and afterwards associate it with insurance data. For this purpose, we will be utilizing public datasets published on <a href=\"url\">https://data.stadt-zuerich.ch/</a> website. Datasets we will be using contain, but are not limited to, public parks, schools, street lights, public WCs and etc. in Zurich. \n",
    "\n",
    "This notebook is used to load all relevant datasets found on https://data.stadt-zuerich.ch/ as well as the population per zip code data from https://opendata.swiss/en/dataset/bevoelkerung-pro-plz into a central file that will be used for the rest of the analysis."
   ]
  },
  {
   "cell_type": "code",
   "execution_count": null,
   "metadata": {},
   "outputs": [],
   "source": [
    "import pandas as pd\n",
    "import numpy as np\n",
    "import geopandas as gpd\n",
    "from os import listdir\n",
    "import matplotlib.pyplot as plt\n",
    "from shapely.geometry import Point\n",
    "import pyproj"
   ]
  },
  {
   "cell_type": "code",
   "execution_count": null,
   "metadata": {},
   "outputs": [],
   "source": [
    "DATA_FOLDER = \"./data/\"\n",
    "CSV_JSON_FOLDER = DATA_FOLDER + './csv_json_files/'\n",
    "SHAPE_FOLDER = DATA_FOLDER + \"shapeFiles/\""
   ]
  },
  {
   "cell_type": "markdown",
   "metadata": {},
   "source": [
    "## Reading and loading the csv files"
   ]
  },
  {
   "cell_type": "code",
   "execution_count": null,
   "metadata": {},
   "outputs": [],
   "source": [
    "# create function that reads cleans and appends csv to the general dataframe\n",
    "def csv_read_clean_append(csv_file, duplicate_check, group_on, new_column, append_target=None):\n",
    "    \n",
    "    # load csv into dataframe, drop any duplacte rows, count values for group_on series \n",
    "    temp_df = pd.read_csv(CSV_JSON_FOLDER + csv_file).drop_duplicates(duplicate_check)[group_on].value_counts().to_frame(new_column)\n",
    "    \n",
    "    if append_target is None:\n",
    "        return temp_df\n",
    "    else:\n",
    "        return append_target.join(temp_df)"
   ]
  },
  {
   "cell_type": "code",
   "execution_count": null,
   "metadata": {},
   "outputs": [],
   "source": [
    "# start with addresses and number of hospitality companies\n",
    "combined_df = csv_read_clean_append('adressen.csv', 'adresse', 'plz', 'addresses')\n",
    "combined_df = csv_read_clean_append('gastwirtschaftsbetriebe_per_20171231.csv',\\\n",
    "                                    'Betriebsname', 'plz', 'hospitality_companies', combined_df)"
   ]
  },
  {
   "cell_type": "markdown",
   "metadata": {},
   "source": [
    "We now insert the population per zip code. We have to do some manual touching up, as the population is a sum of number of women and men."
   ]
  },
  {
   "cell_type": "code",
   "execution_count": null,
   "metadata": {},
   "outputs": [],
   "source": [
    "# read population per zip code file\n",
    "population_df = pd.read_csv(CSV_JSON_FOLDER +'bevoelkerung_proplz.csv',delimiter=';')\n",
    "\n",
    "# sum the men and women count per zip code to get population per zip code\n",
    "population_df = population_df[population_df['typ']\\\n",
    "                                .isin(['w', 'm'])]\\\n",
    "                                .groupby('plz')['anzahl']\\\n",
    "                                .agg('sum')\\\n",
    "                                .to_frame('population')\n",
    "\n",
    "# merge the population data to the rest\n",
    "combined_df = pd.merge(combined_df, population_df, 'inner', left_index=True, right_index=True)\n",
    "combined_df.head()"
   ]
  },
  {
   "cell_type": "markdown",
   "metadata": {},
   "source": [
    "## Reading and loading the json files"
   ]
  },
  {
   "cell_type": "code",
   "execution_count": null,
   "metadata": {},
   "outputs": [],
   "source": [
    "# create function that reads cleans and appends json datasets to the general dataframe\n",
    "def json_read_clean_append(json_file, duplicate_check, group_on, new_column, append_target=None):\n",
    "    \n",
    "    # first read json using geopandas\n",
    "    temp_df = gpd.read_file(CSV_JSON_FOLDER + json_file)\n",
    "    \n",
    "    \n",
    "    # load json into dataframe, drop any duplicate rows, count values for group_on series \n",
    "    temp_df = pd.DataFrame(temp_df).drop_duplicates(duplicate_check)[group_on].value_counts().to_frame(new_column)\n",
    "    temp_df.index = pd.to_numeric(temp_df.index)\n",
    "    \n",
    "    if append_target is None:\n",
    "        return temp_df\n",
    "    else:\n",
    "        return pd.merge(append_target, temp_df, 'left', left_index=True,right_index=True)"
   ]
  },
  {
   "cell_type": "code",
   "execution_count": null,
   "metadata": {},
   "outputs": [],
   "source": [
    "# loop through json files in data folder and add to general df with function above\n",
    "for file in listdir(CSV_JSON_FOLDER):\n",
    "    if file.endswith('.json'):\n",
    "        combined_df = json_read_clean_append(file,'adresse', 'plz', file[:-5], combined_df)"
   ]
  },
  {
   "cell_type": "markdown",
   "metadata": {},
   "source": [
    "## Reading and loading the shape files"
   ]
  },
  {
   "cell_type": "markdown",
   "metadata": {},
   "source": [
    "Shape files contain spatial information in form of point coordinates (longitude and latitude). In order to identify to which postal code they belong, we will be using zips.shp file that contains polygons describing area of zip codes in Switzerland. Furthermore, we will utilize geopandas functionality to join points with zip codes. One should also pay special attention to coordinate sysem. In order to join correctly all shape files should agree on coordinate system. Therefore, we will take coordinate systems used in zips.shp file as default and convert any other one into it for consistency."
   ]
  },
  {
   "cell_type": "code",
   "execution_count": null,
   "metadata": {},
   "outputs": [],
   "source": [
    "#read zips data\n",
    "zips = gpd.read_file(SHAPE_FOLDER + \"zips.shp\")\n",
    "zips.columns = ['UUID', 'OS_UUID', 'STATUS', 'INAEND', 'ZIP', 'ZUSZIFF','geometry']\n",
    "\n",
    "#default coordinate system\n",
    "COORDINATE_SYSTEM = zips.crs\n",
    "print(\"used coordinate system: \", zips.crs)"
   ]
  },
  {
   "cell_type": "markdown",
   "metadata": {},
   "source": [
    "Now we define method to read shape files into dataframe, to remove duplicates and convert coordinates to default coordinate system."
   ]
  },
  {
   "cell_type": "code",
   "execution_count": null,
   "metadata": {},
   "outputs": [],
   "source": [
    "#default coordinate system\n",
    "COORDINATE_SYSTEM = {'init': 'epsg:4326'}\n",
    "\n",
    "def read_shape_file(file_name):\n",
    "    df = gpd.read_file(SHAPE_FOLDER + file_name)\n",
    "    \n",
    "    #drop duplicates\n",
    "    G = df[\"geometry\"].apply(lambda geom: geom.wkb)\n",
    "    df = df.loc[G.drop_duplicates().index]\n",
    "    \n",
    "    #convert to default coordinate systen\n",
    "    if (df.crs != COORDINATE_SYSTEM):\n",
    "        df = df.to_crs(COORDINATE_SYSTEM)\n",
    "    \n",
    "    return df"
   ]
  },
  {
   "cell_type": "markdown",
   "metadata": {},
   "source": [
    "Furthermore, we define method that joins points with corresponding polygons. Meaning we will much each coordinate (longitute and latitude) with corresponding zip code in Zurich and then groups counts by zip code."
   ]
  },
  {
   "cell_type": "code",
   "execution_count": null,
   "metadata": {},
   "outputs": [],
   "source": [
    "def join_points_with_zips(df):\n",
    "    \"\"\"join coordinates with zip codes\"\"\"\n",
    "    pointInPoly = gpd.sjoin(df, zips, op='within') \n",
    "    return pointInPoly"
   ]
  },
  {
   "cell_type": "code",
   "execution_count": null,
   "metadata": {},
   "outputs": [],
   "source": [
    "def grouping_by_zipcode(df, new_column):\n",
    "    \"\"\"group item counts per zip codes\"\"\"\n",
    "    df = df.groupby('ZIP').size().reset_index(name=new_column)\n",
    "    df.set_index('ZIP', inplace=True)\n",
    "    return df"
   ]
  },
  {
   "cell_type": "markdown",
   "metadata": {},
   "source": [
    "The method below will be used for appending information in the shape file to the existing central dataframe for aggregation of all information into one file."
   ]
  },
  {
   "cell_type": "code",
   "execution_count": null,
   "metadata": {},
   "outputs": [],
   "source": [
    "# create function that reads cleans and appends shape datasets to the general dataframe\n",
    "def shape_read_clean_append(shape_file, new_column, append_target=None):\n",
    "    \n",
    "    # first read shape, drop duplicates\n",
    "    temp_df = read_shape_file(shape_file)\n",
    "    \n",
    "    temp_df = join_points_with_zips(temp_df)\n",
    "    \n",
    "    # load shape into dataframe, drop any duplicate rows, count values for group_on series \n",
    "    temp_df = grouping_by_zipcode(temp_df, new_column)\n",
    "    temp_df.index = pd.to_numeric(temp_df.index)\n",
    "    #display(temp_df.head(2))\n",
    "    \n",
    "    if append_target is None:\n",
    "        return temp_df\n",
    "    else:\n",
    "        return pd.merge(append_target, temp_df, 'left', left_index=True,right_index=True)"
   ]
  },
  {
   "cell_type": "markdown",
   "metadata": {},
   "source": [
    "Now we will read all shape files from corresponding folder and load them into the central dataframe."
   ]
  },
  {
   "cell_type": "code",
   "execution_count": null,
   "metadata": {},
   "outputs": [],
   "source": [
    "# loop through shp files in data folder and add to general df with function above\n",
    "for file in listdir(SHAPE_FOLDER):\n",
    "    if file.endswith('.shp'):\n",
    "        combined_df = shape_read_clean_append(file, file[:-4], combined_df)"
   ]
  },
  {
   "cell_type": "markdown",
   "metadata": {},
   "source": [
    "(\"External Dataset Preprocessing.ipynb\" contains some additional information about shape files)"
   ]
  },
  {
   "cell_type": "markdown",
   "metadata": {},
   "source": [
    "## Final Merging"
   ]
  },
  {
   "cell_type": "markdown",
   "metadata": {},
   "source": [
    "At the end we save combined information into .csv file for further usage."
   ]
  },
  {
   "cell_type": "code",
   "execution_count": null,
   "metadata": {},
   "outputs": [],
   "source": [
    "# drop zip codes that are not used (last 5 rows), and fill other nans with zeros\n",
    "combined_df = combined_df.dropna(subset=['hospitality_companies']).fillna(0)\n",
    "combined_df.to_csv(DATA_FOLDER + \"open_data_aggregated.csv\")\n",
    "combined_df.head()"
   ]
  },
  {
   "cell_type": "markdown",
   "metadata": {},
   "source": [
    "As we see datasets we will be using consists of:\n",
    "\n",
    "- Addresses - 57923 in total\n",
    "- Hospitality companies - 2097 in total\n",
    "- Population - 509285 in total\n",
    "- Beach volleyball - 12 in total\n",
    "- Bike Parks - 1 in total\n",
    "- Care centers - 20 in total\n",
    "- Community centers - 18 in total\n",
    "- Elementary schools - 115 in total\n",
    "- Football fields - 15 in total\n",
    "- Ice rinks - 3 in total\n",
    "- Indoor pools - 7 in total\n",
    "- Kindergartens - 241 in total\n",
    "- Mobility rental - 227 in total\n",
    "- Nurseries - 316 in total\n",
    "- Outdoor pools - 6 in total\n",
    "- Police locations - 28 in total\n",
    "- Skate parks - 8 in total\n",
    "- Tennis courts - 8 in total\n",
    "- Parks - 118 in total\n",
    "- Street Lights (Beleuchtung) - 40010 in total\n",
    "- Old people center (Alterszentrum) - 28 in total\n",
    "- Retirment houses (Alterswohnung) - 36 in total\n",
    "- Handicapped parking (Behindertenparkplatz) - 410 in total\n",
    "- Fontaines (brunnen) - 1281 in total\n",
    "- Youth clubs/centers/ meeting center (Jugendtreff) - 13 in total\n",
    "- Kindergarten - 354 in total\n",
    "- Kinderhaus / Eltern-Kind-Zentrum - 16 in total\n",
    "- Churches (Kirche) - 82 in total\n",
    "- Temporary art in the urban space (Kunst im Stadtraum) - 388 in total\n",
    "- picknickplatz - 110 in total\n",
    "- social center (sozial zentrum) - 5 in total\n",
    "- Gym (Sporthalle) - 16 in total\n",
    "- Stadium - 1 in total (therefore won't be using, unless for combined sports metric)\n",
    "- WC handicapped - 28 in total\n",
    "- WC not handicapped - 77 in total"
   ]
  },
  {
   "cell_type": "markdown",
   "metadata": {},
   "source": [
    "## Creating aggregated and normalized features\n",
    "\n",
    "We combine features to create the following columns: sports_facilities, child_facilities, elderly_facilities, parks, toilets, handicapped_facilities (handicapp), transport_rental, community_facilities"
   ]
  },
  {
   "cell_type": "code",
   "execution_count": null,
   "metadata": {},
   "outputs": [],
   "source": [
    "combined_df.columns"
   ]
  },
  {
   "cell_type": "code",
   "execution_count": null,
   "metadata": {},
   "outputs": [],
   "source": [
    "# aggregate features and rename others to english\n",
    "aggregated_df = combined_df[['addresses', 'hospitality_companies', 'population','police_locations']]\n",
    "aggregated_df = aggregated_df.assign(parks=combined_df[['Park', 'Picknickplatz']].sum(axis=1))\n",
    "\n",
    "aggregated_df = aggregated_df.assign(sport_facilities=combined_df\\\n",
    "                                    [['indoor_pools', 'outdoor_pools','ice_rinks', 'skate_parks','football_fields',\\\n",
    "                                    'tennis_courts','bikeparks','beachvolleyball','Stadion', 'Sporthalle']].sum(axis=1))\n",
    "\n",
    "aggregated_df = aggregated_df.assign(child_facilities=combined_df[['elementary_schools', 'nurseries','kindergartens',\\\n",
    "                                    'Kinderhaus']].sum(axis=1))\n",
    "\n",
    "aggregated_df = aggregated_df.assign(elderly_facilities=combined_df[['care_centers', 'Alterswohnung','Alterszentrum']]\\\n",
    "                                     .sum(axis=1))\n",
    "\n",
    "aggregated_df = aggregated_df.assign(toilets=combined_df[['ZueriWC_nichtrollstuhlgaengig', 'ZueriWC_rollstuhlgaengig']]\\\n",
    "                                     .sum(axis=1))\n",
    "\n",
    "aggregated_df = aggregated_df.assign(handicapp=combined_df[['Behindertenparkplatz', 'ZueriWC_rollstuhlgaengig']]\\\n",
    "                                     .sum(axis=1))\n",
    "\n",
    "aggregated_df = aggregated_df.assign(transport_rental=combined_df[['Mobility_rental', 'publibike']]\\\n",
    "                                     .sum(axis=1))\n",
    "\n",
    "aggregated_df = aggregated_df.assign(community_facilities=combined_df[['community_centers', 'Jugendtreff']]\\\n",
    "                                     .sum(axis=1))\n",
    "\n",
    "\n",
    "aggregated_df = aggregated_df.assign(fountains=combined_df['Brunnen'])\n",
    "aggregated_df = aggregated_df.assign(street_art=combined_df['KunstImStadtraum'])\n",
    "aggregated_df = aggregated_df.assign(social_centers=combined_df['Sozialzentrum'])\n",
    "aggregated_df = aggregated_df.assign(street_lights=combined_df['Beleuchtung'])\n",
    "aggregated_df = aggregated_df.assign(churches=combined_df['Kirche'])\n",
    "aggregated_df.to_csv(DATA_FOLDER + 'aggregated_zurich_data.csv')\n",
    "aggregated_df.head()"
   ]
  },
  {
   "cell_type": "code",
   "execution_count": null,
   "metadata": {
    "scrolled": true
   },
   "outputs": [],
   "source": [
    "# normalizing by population\n",
    "pop_normed_df = aggregated_df.div(aggregated_df.population, axis=0).drop(columns='population')\n",
    "pop_normed_df.index.names = ['zip']\n",
    "display(pop_normed_df.head())\n",
    "pop_normed_df.to_csv(DATA_FOLDER + \"pop_normed.csv\")"
   ]
  },
  {
   "cell_type": "code",
   "execution_count": null,
   "metadata": {
    "scrolled": true
   },
   "outputs": [],
   "source": [
    "# extract geometries for each zip and join on zip to aggregated_df. Create new dataframe with aggregated data and geom\n",
    "aggregated_df2 = aggregated_df\n",
    "aggregated_df2 = pd.merge(aggregated_df2, zips[['ZIP', 'geometry']].set_index('ZIP'), 'inner', left_index=True,right_index=True)\n",
    "aggregated_df2 = aggregated_df2.drop_duplicates('addresses')\n",
    "\n",
    "# get geopandas df\n",
    "zurich_zips_geoms = gpd.GeoDataFrame(aggregated_df2.geometry)\n",
    "\n",
    "# use coordinate system of shape file\n",
    "zurich_zips_geoms.crs = {'init': 'epsg:4326'}\n",
    "\n",
    "# project to equal area cylindrical and calculate area in square kilometers\n",
    "zips_areas = zurich_zips_geoms.geometry.to_crs({'proj':'cea'}).map(lambda p: p.area / 10**6)\n",
    "\n",
    "# create new dataframe with aggregated data normalized by area \n",
    "area_normed_df = aggregated_df.div(zips_areas, axis=0)\n",
    "area_normed_df.head()"
   ]
  },
  {
   "cell_type": "markdown",
   "metadata": {},
   "source": [
    "## Creating accessibility metrics (closest distance to) "
   ]
  },
  {
   "cell_type": "code",
   "execution_count": null,
   "metadata": {},
   "outputs": [],
   "source": [
    "point1 = Point(50.67, 4.62)\n",
    "point2 = Point(51.67, 4.64)\n",
    "\n",
    "geod = pyproj.Geod(ellps='WGS84')\n",
    "angle1,angle2,distance = geod.inv(point1.x, point1.y, point2.x, point2.y)\n",
    "print(distance/1000)"
   ]
  },
  {
   "cell_type": "code",
   "execution_count": null,
   "metadata": {},
   "outputs": [],
   "source": [
    "distance_dictionary = { \"parks\": ['Park.shp', \n",
    "                                  'Picknickplatz.shp'],\n",
    "                       \n",
    "                        \"police_locations\": ['police_locations.json'],\n",
    "                       \n",
    "                        \"toilets\": ['ZueriWC_nichtrollstuhlgaengig.shp', \n",
    "                                    'ZueriWC_rollstuhlgaengig.shp'],\n",
    "                                    \n",
    "                        \"handicapp\": ['ZueriWC_rollstuhlgaengig.shp', \n",
    "                                      'Behindertenparkplatz.shp'],\n",
    "                                    \n",
    "                        \"hospitality_companies\": ['gastwirtschaftsbetriebe_per_20171231.csv']}\n",
    "\n",
    "\n",
    "def find_distance_to_closest_point(origin, points):\n",
    "    \"\"\"Returns distance from origin to closest point in points\n",
    "    \"\"\"\n",
    "    \n",
    "    geod = pyproj.Geod(ellps='WGS84')\n",
    "    angle1, angle2, distance = geod.inv(origin.x, origin.y, points.iloc[0].x, points.iloc[0].y)\n",
    "    min_distance = distance\n",
    "    #min_distance = origin.distance(points.iloc[0])\n",
    "    \n",
    "    for point in points:\n",
    "        angle1, angle2, distance = geod.inv(origin.x, origin.y, point.x, point.y)\n",
    "        if (distance < min_distance):\n",
    "            min_distance = distance\n",
    "            \n",
    "    return min_distance\n",
    "\n",
    "\n",
    "def create_closest_distance_df(buildings, destinations, column_name):\n",
    "    \"\"\"Returns buildings dataframe containing info about distance to closest point in destinations for each row (Building)\n",
    "    \"\"\"\n",
    "    #print(buildings)\n",
    "    #display(destinations)\n",
    "    \n",
    "    distances = []\n",
    "    for index, building in buildings.iterrows():\n",
    "        \n",
    "        distance = find_distance_to_closest_point(building['geometry'], destinations)\n",
    "        #print(index, distance)\n",
    "        distances.append(distance)\n",
    "        #distances.append(5)\n",
    "     \n",
    "    print(\"distance array size\", len(distances))\n",
    "    #print(distances)\n",
    "    \n",
    "    buildings[column_name + \"_distance\"] = distances\n",
    "    return buildings\n",
    "\n",
    "def closest_distance(distance_dictionary):\n",
    "    \n",
    "    #read building file and create coordinates for each building for finding distances\n",
    "    buildings = pd.read_csv(CSV_JSON_FOLDER + \"adressen.csv\")\n",
    "    buildings['geometry'] = [Point(buildings.loc[i, 'easting_wgs'], \n",
    "                                   buildings.loc[i, 'northing_wgs']) for i in range(buildings.shape[0])]\n",
    "    buildings = buildings[['plz', 'geometry']]\n",
    "    #buildings.index = buildings.plz\n",
    "    #buildings.drop(['plz'], axis=1, inplace=True)\n",
    "    display(buildings.head())\n",
    "    print(\"Shape of buildings: \", buildings.shape)\n",
    "    \n",
    "    for metric, files in distance_dictionary.items():\n",
    "        merged_df = None\n",
    "\n",
    "        for file in files:\n",
    "            if file.endswith('.json'):\n",
    "                temp_df = gpd.read_file(CSV_JSON_FOLDER + file)['geometry']\n",
    "            if file.endswith('.csv'):\n",
    "                temp_df = pd.read_csv(CSV_JSON_FOLDER + file)\n",
    "                temp_df['geometry'] = [Point(temp_df.loc[i, 'X_WGS84'], \n",
    "                                             temp_df.loc[i, 'Y_WGS84']) for i in range(temp_df.shape[0])]\n",
    "                temp_df = temp_df['geometry'] \n",
    "            if file.endswith('.shp'):\n",
    "                temp_df = read_shape_file(file)['geometry']\n",
    "                \n",
    "            if (merged_df is None):\n",
    "                merged_df = temp_df\n",
    "            else:\n",
    "                merged_df = pd.concat([merged_df, temp_df], axis=0).reset_index(drop=True)\n",
    "           \n",
    "        merged_df.name = metric\n",
    "        display(merged_df.head())\n",
    "        print(\"shape of metric\",metric, merged_df.shape)\n",
    "        \n",
    "        buildings = create_closest_distance_df(buildings, merged_df, metric) \n",
    "        display(buildings.head())\n",
    "        \n",
    "    return buildings\n",
    "        \n",
    "    \n",
    "buildings = closest_distance(distance_dictionary)"
   ]
  },
  {
   "cell_type": "code",
   "execution_count": null,
   "metadata": {},
   "outputs": [],
   "source": [
    "buildings.shape"
   ]
  },
  {
   "cell_type": "code",
   "execution_count": null,
   "metadata": {},
   "outputs": [],
   "source": [
    "buildings.to_csv(DATA_FOLDER + \"buildings_distance.csv\")"
   ]
  },
  {
   "cell_type": "markdown",
   "metadata": {},
   "source": [
    "## Creating the final indicators of quality of space"
   ]
  },
  {
   "cell_type": "code",
   "execution_count": null,
   "metadata": {},
   "outputs": [],
   "source": [
    "# reading data from csv \n",
    "pop_normed_df = pd.read_csv(DATA_FOLDER + \"pop_normed.csv\",index_col='zip').add_suffix('_pp')\n",
    "buildings_df = pd.read_csv(DATA_FOLDER + \"buildings_distance.csv\")\n",
    "\n",
    "# aggreating the closest distance metric by zip and taking the average\n",
    "buildings_df = buildings_df.groupby('plz').mean().drop(columns='Unnamed: 0')\n",
    "\n",
    "# create final dataframe containing all zurich metrics and save to csv\n",
    "zurich_metrics_df = pd.merge(pop_normed_df, buildings_df, 'inner', left_index=True, right_index=True)\n",
    "zurich_metrics_df.to_csv(DATA_FOLDER + \"zurich_metrics.csv\")"
   ]
  },
  {
   "cell_type": "code",
   "execution_count": null,
   "metadata": {},
   "outputs": [],
   "source": [
    "zurich_metrics_df.columns"
   ]
  },
  {
   "cell_type": "markdown",
   "metadata": {},
   "source": [
    "Now, we want to create scores as a form of indicator of a number of categories. To do so, we try to apply PCA on relevant features to find a linear combination of the features. We then choose the first eigenvector to create the indicator which expresses the maximum variance, and therefore the linear combination that best describes the difference in 'safety' between the zip codes."
   ]
  },
  {
   "cell_type": "code",
   "execution_count": null,
   "metadata": {
    "scrolled": true
   },
   "outputs": [],
   "source": [
    "# normalize the features\n",
    "import sklearn.preprocessing as skl_pp\n",
    "\n",
    "# normalize each feature and then scale (remove mean and scale variance to unit variance)\n",
    "scaled_zurich_metrics_df = pd.DataFrame(skl_pp.scale(skl_pp.normalize(zurich_metrics_df,axis=0), with_std=False))\n",
    "#scaled_zurich_metrics_df = pd.DataFrame(skl_pp.normalize(zurich_metrics_df,axis=0) )\n",
    "\n",
    "scaled_zurich_metrics_df.index = zurich_metrics_df.index\n",
    "scaled_zurich_metrics_df.columns = zurich_metrics_df.columns\n",
    "scaled_zurich_metrics_df.head()"
   ]
  },
  {
   "cell_type": "code",
   "execution_count": null,
   "metadata": {},
   "outputs": [],
   "source": [
    "from sklearn.decomposition import PCA\n",
    "\n",
    "# create method to create indicator from input columns\n",
    "def create_indicator(input_columns,indicator_name, append_target=None):\n",
    "    reduced_df = scaled_zurich_metrics_df[input_columns]\n",
    "    pca = PCA()\n",
    "    pca.fit(reduced_df)\n",
    "    e1 = pca.components_[:,0]\n",
    "    print('Explained variance of first eigenvector for ', indicator_name,': ', pca.explained_variance_ratio_[0])\n",
    "    print('Components of first eigenvector for ', indicator_name,': ',e1)\n",
    "    print('---------------------------------------')\n",
    "    temp_df = pd.DataFrame({indicator_name :np.dot(e1,reduced_df.values.T)}, index = reduced_df.index)\n",
    "    \n",
    "    if append_target is None:\n",
    "        return temp_df\n",
    "    else:\n",
    "        return pd.merge(append_target, temp_df, 'left', left_index=True,right_index=True)\n",
    "\n"
   ]
  },
  {
   "cell_type": "code",
   "execution_count": null,
   "metadata": {},
   "outputs": [],
   "source": [
    "# safety \n",
    "safety_features = ['police_locations_pp', 'street_lights_pp','police_locations_distance']\n",
    "zurich_indicators_df = create_indicator(safety_features,'safety_indic')\n",
    "\n",
    "# hospitality \n",
    "hospitality_features = ['hospitality_companies_distance','hospitality_companies_pp']\n",
    "zurich_indicators_df = create_indicator(hospitality_features,'hospitality_indic',zurich_indicators_df)\n",
    "\n",
    "# handicapped access\n",
    "hc_features = ['handicapp_pp','handicapp_distance']\n",
    "zurich_indicators_df = create_indicator(hc_features,'handicapp_indic',zurich_indicators_df)\n",
    "zurich_indicators_df.handicapp_indic = -zurich_indicators_df.handicapp_indic\n",
    "\n",
    "# parks \n",
    "parks_features = ['parks_distance','parks_pp']\n",
    "zurich_indicators_df = zurich_indicators_df = create_indicator(parks_features,'parks_indic',zurich_indicators_df)\n",
    "\n",
    "# public facilities (pf)\n",
    "pf_features = ['transport_rental_pp', 'fountains_pp','toilets_pp','street_art_pp']\n",
    "zurich_indicators_df = create_indicator(pf_features,'pf_indic',zurich_indicators_df)\n",
    "\n",
    "# community care  (cc)\n",
    "cc_features = ['elderly_facilities_pp','community_facilities_pp']\n",
    "zurich_indicators_df = create_indicator(cc_features,'cc_indic',zurich_indicators_df)\n",
    "\n",
    "# sporting facilities (sf)\n",
    "zurich_indicators_df = zurich_indicators_df.assign(sf_indic= scaled_zurich_metrics_df.sport_facilities_pp)\n",
    "\n",
    "# child facilities (cf)\n",
    "zurich_indicators_df = zurich_indicators_df.assign(cf_indic= scaled_zurich_metrics_df.child_facilities_pp)\n",
    "\n",
    "scaled_zurich_metrics_df[hospitality_features].plot.scatter(x=hospitality_features[0], y=hospitality_features[1])\n",
    "display(zurich_indicators_df)\n",
    "zurich_indicators_df.to_csv(DATA_FOLDER + \"zurich_indicators.csv\")"
   ]
  },
  {
   "cell_type": "markdown",
   "metadata": {},
   "source": [
    "## Plotting some of the Zurich indicators"
   ]
  },
  {
   "cell_type": "code",
   "execution_count": null,
   "metadata": {},
   "outputs": [],
   "source": [
    "#read zips data\n",
    "zips = gpd.read_file(SHAPE_FOLDER + \"zips.shp\")\n",
    "zips.columns = ['UUID', 'OS_UUID', 'STATUS', 'INAEND', 'ZIP', 'ZUSZIFF','geometry']"
   ]
  },
  {
   "cell_type": "code",
   "execution_count": null,
   "metadata": {},
   "outputs": [],
   "source": [
    "# extract only geometries and zips and join on zurich zips \n",
    "zurich_indicators_df = pd.merge(zurich_indicators_df, zips[['ZIP', 'geometry']].set_index('ZIP'), 'inner', left_index=True,right_index=True)\n",
    "zurich_indicators_df = zurich_indicators_df.drop_duplicates('safety_indic')"
   ]
  },
  {
   "cell_type": "code",
   "execution_count": null,
   "metadata": {},
   "outputs": [],
   "source": [
    "def plot_geopandas(gp, col_to_plot,title,colormap):\n",
    "    '''\n",
    "    This function creates a choropleth map using geopandas\n",
    "    \n",
    "    Parameters:\n",
    "    gp = geodataframe data containing geometry column\n",
    "    col_to_plot = column of data that must be plotted\n",
    "    title = title of the map\n",
    "    colormap = plt colormap to use, e.g. 'Blues', 'Accent', ...\n",
    "    '''\n",
    "    f, ax = plt.subplots(figsize=(15, 10))\n",
    "    \n",
    "    from mpl_toolkits.axes_grid1 import make_axes_locatable\n",
    "\n",
    "    # Create colorbar\n",
    "    divider = make_axes_locatable(ax)\n",
    "    cax = divider.append_axes(\"right\", size=\"5%\", pad=0.2)\n",
    "    \n",
    "    # plotting settings\n",
    "    ax.set_title(title, fontdict={'fontsize': '25', 'fontweight' : '3'})\n",
    "    ax.set_aspect('equal')\n",
    "    cax.set_aspect('equal')\n",
    "    cax.set_axis_off()\n",
    "    ax.set_axis_off()\n",
    "\n",
    "    # get preferred colormap\n",
    "    cmap = plt.cm.get_cmap(colormap)\n",
    "    \n",
    "    # plot data\n",
    "    gp.plot(column=col_to_plot, ax=cax, linewidth=0.1, edgecolor='black',cmap=cmap)\n",
    "    \n",
    "    # create colorbar\n",
    "    norm=plt.Normalize(vmin=gp[col_to_plot].min(), vmax=gp[col_to_plot].max())\n",
    "    sm = plt.cm.ScalarMappable(cmap=cmap,norm=norm)\n",
    "    sm._A = []\n",
    "    f.colorbar(sm)\n",
    "    \n",
    "# use function defined above to create choropleth map \n",
    "plot_geopandas(gpd.GeoDataFrame(zurich_indicators_df), 'safety_indic', 'Safety score of Zurich postal areas','RdBu')"
   ]
  },
  {
   "cell_type": "code",
   "execution_count": null,
   "metadata": {},
   "outputs": [],
   "source": [
    "# use function defined above to create choropleth map \n",
    "plot_geopandas(gpd.GeoDataFrame(zurich_indicators_df), 'handicapp_indic',\\\n",
    "               'Handicapped accessibility score in Zurich postal areas','PRGn')"
   ]
  },
  {
   "cell_type": "code",
   "execution_count": null,
   "metadata": {
    "scrolled": false
   },
   "outputs": [],
   "source": [
    "# use function defined above to create choropleth map \n",
    "plot_geopandas(gpd.GeoDataFrame(zurich_indicators_df), 'pf_indic',\\\n",
    "               'Public facilities score of Zurich postal areas','Purples')"
   ]
  },
  {
   "cell_type": "markdown",
   "metadata": {},
   "source": [
    "## Spatial analysis of Zurich\n",
    "\n",
    "We implement spatial analysis to extract relevant information from the association of Zurich zip-code level averaged insurance data metrics with the indicators for the city of Zurich previously constructed."
   ]
  },
  {
   "cell_type": "code",
   "execution_count": null,
   "metadata": {},
   "outputs": [],
   "source": [
    "import pandas as pd\n",
    "import numpy as np\n",
    "import geopandas as gpd\n",
    "import matplotlib.pyplot as plt\n",
    "import pysal as ps\n",
    "import seaborn as sns"
   ]
  },
  {
   "cell_type": "code",
   "execution_count": null,
   "metadata": {},
   "outputs": [],
   "source": [
    "DATA_FOLDER = \"./data/\"\n",
    "\n",
    "#read zips geometry data\n",
    "zips = gpd.read_file( DATA_FOLDER + \"shapeFiles/zips.shp\")\n",
    "zips.columns = ['UUID', 'OS_UUID', 'STATUS', 'INAEND', 'ZIP', 'ZUSZIFF','geometry']\n",
    "\n",
    "# read data previously cleaned, aggregated and merged\n",
    "zurich_indicators_df = pd.read_csv(DATA_FOLDER + 'zurich_indicators.csv', index_col=0)\n",
    "insurance_avg_df = pd.read_csv(DATA_FOLDER + 'zurich_insurance_averages.csv', index_col=0)\n",
    "insurance_jobs_avg_df = pd.read_csv(DATA_FOLDER + 'insurance_jobs_avgs.csv', index_col=0)\n",
    "\n",
    "display(zurich_indicators_df.head())\n",
    "display(insurance_avg_df.head())\n",
    "display(insurance_jobs_avg_df.head())"
   ]
  },
  {
   "cell_type": "code",
   "execution_count": null,
   "metadata": {},
   "outputs": [],
   "source": [
    "# take only zips for insurance data\n",
    "insurance_avg_zips_df = insurance_avg_df.drop(['Zurich'])\n",
    "insurance_avg_zips_df.index=pd.to_numeric(insurance_avg_zips_df.index)\n",
    "\n",
    "# merge the qol indicators and the insurance data\n",
    "city_people_df = pd.merge(zurich_indicators_df,insurance_avg_zips_df, how='inner', left_index=True, right_index=True)\n",
    "\n",
    "# add geometry information for each zip \n",
    "city_people_df = pd.merge(city_people_df, zips[['ZIP', 'geometry']].set_index('ZIP'), 'inner', left_index=True,right_index=True)\n",
    "city_people_df = city_people_df.drop_duplicates('safety_indic')\n",
    "city_people_df.index"
   ]
  },
  {
   "cell_type": "markdown",
   "metadata": {},
   "source": [
    "### Correlation between city and people metrics"
   ]
  },
  {
   "cell_type": "code",
   "execution_count": null,
   "metadata": {},
   "outputs": [],
   "source": [
    "from scipy.stats import pearsonr\n",
    "\n",
    "city_people_df = city_people_df.drop([8001]).drop(columns=['pf_indic','cc_indic','cf_indic']).rename(columns={'sf_indic':'sports_indic'})\n",
    "\n",
    "df1 = city_people_df.drop(columns='geometry')\n",
    "df2 = city_people_df.drop(columns='geometry')\n",
    "\n",
    "coeffmat = np.zeros((df1.shape[1], df2.shape[1]))\n",
    "pvalmat = np.zeros((df1.shape[1], df2.shape[1]))\n",
    "\n",
    "for i in range(df1.shape[1]):    \n",
    "    for j in range(df2.shape[1]):        \n",
    "        corrtest = pearsonr(df1[df1.columns[i]], df2[df2.columns[j]])  \n",
    "\n",
    "        coeffmat[i,j] = corrtest[0]\n",
    "        pvalmat[i,j] = corrtest[1]\n",
    "\n",
    "dfcoeff = pd.DataFrame(coeffmat, columns=df2.columns, index=df1.columns)\n",
    "display(dfcoeff)\n",
    "\n",
    "dfpvals = pd.DataFrame(pvalmat, columns=df2.columns, index=df1.columns)\n",
    "display(dfpvals)"
   ]
  },
  {
   "cell_type": "code",
   "execution_count": null,
   "metadata": {},
   "outputs": [],
   "source": [
    "f, ax = plt.subplots(figsize=(16, 8))\n",
    "sns.heatmap(dfcoeff, \n",
    "        xticklabels=dfcoeff.columns,\n",
    "        yticklabels=dfcoeff.columns, cmap='PRGn',cbar_kws={'label': 'Pearson coeff'})\n"
   ]
  },
  {
   "cell_type": "markdown",
   "metadata": {},
   "source": [
    "### Corrrelation between city metrics and customer jobs info\n"
   ]
  },
  {
   "cell_type": "code",
   "execution_count": null,
   "metadata": {},
   "outputs": [],
   "source": [
    "insurance_jobs_avg_df2 = insurance_jobs_avg_df.drop(['Zurich_'])\n",
    "insurance_jobs_avg_df2.index=insurance_jobs_avg_df2.index.map(lambda x: str(x).rstrip('_'))\n",
    "insurance_jobs_avg_df2.index=pd.to_numeric(insurance_jobs_avg_df2.index)\n",
    "\n",
    "city_jobs_df = pd.merge(zurich_indicators_df,insurance_jobs_avg_df2, how='inner', left_index=True, right_index=True)\n",
    "\n",
    "# add geometry information for each zip \n",
    "city_jobs_df = pd.merge(city_jobs_df, zips[['ZIP', 'geometry']].set_index('ZIP'), 'inner', left_index=True,right_index=True)\n",
    "city_jobs_df = city_jobs_df.drop_duplicates('safety_indic')"
   ]
  },
  {
   "cell_type": "code",
   "execution_count": null,
   "metadata": {},
   "outputs": [],
   "source": [
    "df1 = city_jobs_df.drop(columns='geometry')\n",
    "df2 = city_jobs_df.drop(columns='geometry')\n",
    "\n",
    "coeffmat = np.zeros((df1.shape[1], df2.shape[1]))\n",
    "pvalmat = np.zeros((df1.shape[1], df2.shape[1]))\n",
    "\n",
    "for i in range(df1.shape[1]):    \n",
    "    for j in range(df2.shape[1]):        \n",
    "        corrtest = pearsonr(df1[df1.columns[i]], df2[df2.columns[j]])  \n",
    "\n",
    "        coeffmat[i,j] = corrtest[0]\n",
    "        pvalmat[i,j] = corrtest[1]\n",
    "\n",
    "dfcoeff = pd.DataFrame(coeffmat, columns=df2.columns, index=df1.columns)\n",
    "display(dfcoeff)\n",
    "\n",
    "dfpvals = pd.DataFrame(pvalmat, columns=df2.columns, index=df1.columns)\n",
    "display(dfpvals)"
   ]
  },
  {
   "cell_type": "code",
   "execution_count": null,
   "metadata": {},
   "outputs": [],
   "source": [
    "f, ax = plt.subplots(figsize=(16, 8))\n",
    "sns.heatmap(dfcoeff, \n",
    "        xticklabels=dfcoeff.columns,\n",
    "        yticklabels=dfcoeff.columns, cmap='PRGn')\n"
   ]
  },
  {
   "cell_type": "markdown",
   "metadata": {},
   "source": [
    "## Visualizing correlations"
   ]
  },
  {
   "cell_type": "code",
   "execution_count": null,
   "metadata": {},
   "outputs": [],
   "source": [
    "def display_map(gp, col_to_plot,title,colormap):\n",
    "    '''\n",
    "    This function creates a choropleth map using geopandas\n",
    "    \n",
    "    Parameters:\n",
    "    gp = geodataframe data containing geometry column\n",
    "    col_to_plot = column of data that must be plotted\n",
    "    title = title of the map\n",
    "    colormap = plt colormap to use, e.g. 'Blues', 'Accent', ...\n",
    "    '''\n",
    "    f, ax = plt.subplots(figsize=(15, 10))\n",
    "    \n",
    "    from mpl_toolkits.axes_grid1 import make_axes_locatable\n",
    "\n",
    "    # Create colorbar\n",
    "    divider = make_axes_locatable(ax)\n",
    "    cax = divider.append_axes(\"right\", size=\"5%\", pad=0.2)\n",
    "    \n",
    "    # plotting settings\n",
    "    ax.set_title(title, fontdict={'fontsize': '20', 'fontweight' : '500'})\n",
    "    ax.set_aspect('equal')\n",
    "    cax.set_aspect('equal')\n",
    "    cax.set_axis_off()\n",
    "    ax.set_axis_off()\n",
    "\n",
    "    # get preferred colormap\n",
    "    cmap = plt.cm.get_cmap(colormap)\n",
    "    \n",
    "    # plot data\n",
    "    gp.plot(column=col_to_plot, ax=cax, linewidth=0.1, edgecolor='black',cmap=cmap)\n",
    "    \n",
    "    # create colorbar\n",
    "    norm=plt.Normalize(vmin=gp[col_to_plot].min(), vmax=gp[col_to_plot].max())\n",
    "    sm = plt.cm.ScalarMappable(cmap=cmap,norm=norm)\n",
    "    sm._A = []\n",
    "    f.colorbar(sm)\n",
    "    \n",
    "# use function defined above to create choropleth map \n",
    "display_map(gpd.GeoDataFrame(city_people_df), 'Avg_Age', 'Average age of insurance customers in Zurich postal areas','coolwarm')"
   ]
  },
  {
   "cell_type": "code",
   "execution_count": null,
   "metadata": {},
   "outputs": [],
   "source": [
    "display_map(gpd.GeoDataFrame(city_people_df), 'hospitality_indic', 'Hospitality indicator in Zurich postal areas','coolwarm_r')"
   ]
  },
  {
   "cell_type": "code",
   "execution_count": null,
   "metadata": {},
   "outputs": [],
   "source": [
    "display_map(gpd.GeoDataFrame(city_people_df), 'Avg_Children_0-26', 'Average number of children per insurance customer','coolwarm')"
   ]
  },
  {
   "cell_type": "code",
   "execution_count": null,
   "metadata": {
    "scrolled": false
   },
   "outputs": [],
   "source": [
    "display_map(gpd.GeoDataFrame(city_people_df), 'parks_indic', 'Parks indicator in Zurich','coolwarm')"
   ]
  },
  {
   "cell_type": "code",
   "execution_count": null,
   "metadata": {},
   "outputs": [],
   "source": [
    "display_map(gpd.GeoDataFrame(city_people_df), 'Avg_num_cars', 'Average number of cars per insurance customer','coolwarm')"
   ]
  },
  {
   "cell_type": "code",
   "execution_count": null,
   "metadata": {},
   "outputs": [],
   "source": [
    "display_map(gpd.GeoDataFrame(city_people_df), 'sports_indic', 'Sports indicator in Zurich','coolwarm')"
   ]
  },
  {
   "cell_type": "markdown",
   "metadata": {},
   "source": [
    "### How are the wealthy distributed?"
   ]
  },
  {
   "cell_type": "code",
   "execution_count": null,
   "metadata": {},
   "outputs": [],
   "source": [
    "# create spatial weights matrix\n",
    "shapelist = city_people_df.geometry.tolist()\n",
    "W = ps.weights.Queen.from_iterable(shapelist)\n",
    "\n",
    "mi = ps.Moran(city_people_df.Avg_property_premium, W)\n",
    "print(mi.I, mi.p_sim)\n",
    "\n",
    "\n",
    "# get local spatial clustering metric\n",
    "lisa = ps.Moran_Local(city_people_df.Avg_property_premium.values, W)\n",
    "\n",
    "# get significant clusters\n",
    "city_people_df['significant'] = lisa.p_sim < 0.05\n",
    "\n",
    "# Store the quadrant they belong to\n",
    "city_people_df['quadrant'] = lisa.q\n",
    "city_people_df[['quadrant','significant']].head()"
   ]
  },
  {
   "cell_type": "code",
   "execution_count": null,
   "metadata": {},
   "outputs": [],
   "source": [
    "f, ax = plt.subplots(figsize=(15, 10))\n",
    "\n",
    "# plotting settings\n",
    "ax.set_title('Statistically significant spatial wealth clusters', fontdict={'fontsize': '20', 'fontweight' : '500'})\n",
    "ax.set_aspect('equal')\n",
    "ax.set_axis_off()\n",
    "\n",
    "# plot data\n",
    "city_people_gpd = gpd.GeoDataFrame(city_people_df)\n",
    "city_people_gpd.plot(ax=ax,linewidth=0.3, edgecolor='black',color='White')\n",
    "city_people_gpd.loc[(city_people_gpd['quadrant']==1) & (city_people_gpd['significant']==True)].plot(ax=ax,linewidth=0.2, edgecolor='black',color='#b7872d')\n",
    "city_people_gpd.loc[(city_people_gpd['quadrant']==3) & (city_people_gpd['significant']==True)].plot(ax=ax,linewidth=0.2, edgecolor='black',color='#2d589e')\n",
    "#city_people_gpd.loc[(city_people_gpd['quadrant']==2) & (city_people_gpd['significant']==True)].plot(ax=ax,linewidth=0.1, edgecolor='black',color='#83cef4')\n",
    "#city_people_gpd.loc[(city_people_gpd['quadrant']==4) & (city_people_gpd['significant']==True)].plot(ax=ax,linewidth=0.1, edgecolor='black',color='#e59696')\n",
    "\n",
    "\n",
    "from matplotlib.patches import Patch\n",
    "legend_elements = [Patch(facecolor='#b7872d', edgecolor='k',\n",
    "                         label='High property premium cluster'),\n",
    "                   Patch(facecolor='#2d589e', edgecolor='k',\n",
    "                         label='Low property premium cluster')]\n",
    "plt.rcParams[\"legend.fontsize\"] = 14\n",
    "ax.legend(handles=legend_elements, loc='lower right')"
   ]
  }
 ],
 "metadata": {
  "kernelspec": {
   "display_name": "",
   "name": ""
  },
  "language_info": {
   "name": ""
  }
 },
 "nbformat": 4,
 "nbformat_minor": 2
}
