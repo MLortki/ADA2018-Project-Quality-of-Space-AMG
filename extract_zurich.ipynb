{
 "cells": [
  {
   "cell_type": "code",
   "execution_count": 43,
   "metadata": {},
   "outputs": [],
   "source": [
    "import os\n",
    "import pandas as pd\n",
    "import numpy as np"
   ]
  },
  {
   "cell_type": "code",
   "execution_count": 44,
   "metadata": {},
   "outputs": [
    {
     "data": {
      "text/plain": [
       "'C:/Users/Public/Data/InsuranceData/dataCities.csv'"
      ]
     },
     "execution_count": 44,
     "metadata": {},
     "output_type": "execute_result"
    }
   ],
   "source": [
    "INSURANCE_FILE = os.path.join('C:/Users/Public/Data/', 'InsuranceData/dataCities.csv')\n",
    "INSURANCE_FILE"
   ]
  },
  {
   "cell_type": "code",
   "execution_count": 45,
   "metadata": {},
   "outputs": [
    {
     "name": "stderr",
     "output_type": "stream",
     "text": [
      "C:\\ProgramData\\Anaconda3\\lib\\site-packages\\IPython\\core\\interactiveshell.py:2785: DtypeWarning: Columns (34) have mixed types. Specify dtype option on import or set low_memory=False.\n",
      "  interactivity=interactivity, compiler=compiler, result=result)\n"
     ]
    }
   ],
   "source": [
    "insurance_df = pd.read_csv(INSURANCE_FILE,encoding = 'ISO-8859-1')"
   ]
  },
  {
   "cell_type": "code",
   "execution_count": 46,
   "metadata": {},
   "outputs": [],
   "source": [
    "zurich_df = insurance_df.loc[insurance_df['City'] == 'Zürich']"
   ]
  },
  {
   "cell_type": "code",
   "execution_count": 47,
   "metadata": {},
   "outputs": [
    {
     "data": {
      "text/plain": [
       "Index(['Unnamed: 0', 'Nmbr', 'JobState', 'Job', 'Civil', 'YearOfBirth',\n",
       "       'Gender', 'Own/Rent', 'Lang', 'Nation', 'ZIP', 'Children_0-26',\n",
       "       'Car1_Canton', 'Car1_Brand', 'Car1_Class', 'Car1_Price', 'Car1_1Imtr',\n",
       "       'Car1_ccm', 'Car1_ClaimsCt5Y', 'Car1_ClaimsSum5Y', 'Car2_Canton',\n",
       "       'Car2_Brand', 'Car2_Class', 'Car2_Price', 'Car2_1Imtr', 'Car2_ccm',\n",
       "       'Car2_ClaimsCt5Y', 'Car2_ClaimsSum5Y', 'Car_Premium', 'HH_Zip',\n",
       "       'HH_Ins_Sum', 'Stand_of_furn', 'Rooms', 'Build_Zip', 'Build_Ins_Sum',\n",
       "       'Year_of_constr', 'Type', 'HHaB_ClaimsCt5Y', 'HHaB_ClaimsSum5Y',\n",
       "       'HH_and_Bld_Prem.', 'Zip', 'BFS', 'City'],\n",
       "      dtype='object')"
      ]
     },
     "execution_count": 47,
     "metadata": {},
     "output_type": "execute_result"
    }
   ],
   "source": [
    "zurich_df.columns"
   ]
  },
  {
   "cell_type": "code",
   "execution_count": 48,
   "metadata": {},
   "outputs": [
    {
     "name": "stderr",
     "output_type": "stream",
     "text": [
      "C:\\ProgramData\\Anaconda3\\lib\\site-packages\\ipykernel_launcher.py:1: SettingWithCopyWarning: \n",
      "A value is trying to be set on a copy of a slice from a DataFrame.\n",
      "Try using .loc[row_indexer,col_indexer] = value instead\n",
      "\n",
      "See the caveats in the documentation: http://pandas.pydata.org/pandas-docs/stable/indexing.html#indexing-view-versus-copy\n",
      "  \"\"\"Entry point for launching an IPython kernel.\n"
     ]
    }
   ],
   "source": [
    "zurich_df['verify'] = zurich_df['ZIP'] == zurich_df['Zip']"
   ]
  },
  {
   "cell_type": "code",
   "execution_count": 49,
   "metadata": {},
   "outputs": [
    {
     "data": {
      "text/html": [
       "<div>\n",
       "<style scoped>\n",
       "    .dataframe tbody tr th:only-of-type {\n",
       "        vertical-align: middle;\n",
       "    }\n",
       "\n",
       "    .dataframe tbody tr th {\n",
       "        vertical-align: top;\n",
       "    }\n",
       "\n",
       "    .dataframe thead th {\n",
       "        text-align: right;\n",
       "    }\n",
       "</style>\n",
       "<table border=\"1\" class=\"dataframe\">\n",
       "  <thead>\n",
       "    <tr style=\"text-align: right;\">\n",
       "      <th></th>\n",
       "      <th>Unnamed: 0</th>\n",
       "      <th>Nmbr</th>\n",
       "      <th>JobState</th>\n",
       "      <th>Job</th>\n",
       "      <th>Civil</th>\n",
       "      <th>YearOfBirth</th>\n",
       "      <th>Gender</th>\n",
       "      <th>Own/Rent</th>\n",
       "      <th>Lang</th>\n",
       "      <th>Nation</th>\n",
       "      <th>...</th>\n",
       "      <th>Build_Ins_Sum</th>\n",
       "      <th>Year_of_constr</th>\n",
       "      <th>Type</th>\n",
       "      <th>HHaB_ClaimsCt5Y</th>\n",
       "      <th>HHaB_ClaimsSum5Y</th>\n",
       "      <th>HH_and_Bld_Prem.</th>\n",
       "      <th>Zip</th>\n",
       "      <th>BFS</th>\n",
       "      <th>City</th>\n",
       "      <th>verify</th>\n",
       "    </tr>\n",
       "  </thead>\n",
       "  <tbody>\n",
       "  </tbody>\n",
       "</table>\n",
       "<p>0 rows × 44 columns</p>\n",
       "</div>"
      ],
      "text/plain": [
       "Empty DataFrame\n",
       "Columns: [Unnamed: 0, Nmbr, JobState, Job, Civil, YearOfBirth, Gender, Own/Rent, Lang, Nation, ZIP, Children_0-26, Car1_Canton, Car1_Brand, Car1_Class, Car1_Price, Car1_1Imtr, Car1_ccm, Car1_ClaimsCt5Y, Car1_ClaimsSum5Y, Car2_Canton, Car2_Brand, Car2_Class, Car2_Price, Car2_1Imtr, Car2_ccm, Car2_ClaimsCt5Y, Car2_ClaimsSum5Y, Car_Premium, HH_Zip, HH_Ins_Sum, Stand_of_furn, Rooms, Build_Zip, Build_Ins_Sum, Year_of_constr, Type, HHaB_ClaimsCt5Y, HHaB_ClaimsSum5Y, HH_and_Bld_Prem., Zip, BFS, City, verify]\n",
       "Index: []\n",
       "\n",
       "[0 rows x 44 columns]"
      ]
     },
     "execution_count": 49,
     "metadata": {},
     "output_type": "execute_result"
    }
   ],
   "source": [
    "zurich_df.query('verify == False')"
   ]
  },
  {
   "cell_type": "code",
   "execution_count": 56,
   "metadata": {},
   "outputs": [],
   "source": [
    "zurich = zurich_df.drop(['City', 'Unnamed: 0', 'Nmbr', 'Zip', 'verify', 'Year_of_constr', 'Type'], axis=1)\n",
    "zurich['ZIP'] = zurich['ZIP'].astype('str')"
   ]
  },
  {
   "cell_type": "code",
   "execution_count": 57,
   "metadata": {},
   "outputs": [
    {
     "data": {
      "text/plain": [
       "(47242, 37)"
      ]
     },
     "execution_count": 57,
     "metadata": {},
     "output_type": "execute_result"
    }
   ],
   "source": [
    "zurich.shape"
   ]
  },
  {
   "cell_type": "code",
   "execution_count": 58,
   "metadata": {},
   "outputs": [
    {
     "data": {
      "text/plain": [
       "'C:\\\\Users\\\\mlc2\\\\Desktop\\\\Group4\\\\data'"
      ]
     },
     "execution_count": 58,
     "metadata": {},
     "output_type": "execute_result"
    }
   ],
   "source": [
    "os.getcwd()"
   ]
  },
  {
   "cell_type": "code",
   "execution_count": 59,
   "metadata": {},
   "outputs": [],
   "source": [
    "zurich.to_pickle(\"./zurich_insurance.pkl\")"
   ]
  },
  {
   "cell_type": "code",
   "execution_count": 60,
   "metadata": {},
   "outputs": [],
   "source": [
    "load = pd.read_pickle(\"./zurich_insurance.pkl\")"
   ]
  },
  {
   "cell_type": "code",
   "execution_count": 61,
   "metadata": {},
   "outputs": [
    {
     "data": {
      "text/plain": [
       "(47242, 37)"
      ]
     },
     "execution_count": 61,
     "metadata": {},
     "output_type": "execute_result"
    }
   ],
   "source": [
    "load.shape"
   ]
  },
  {
   "cell_type": "code",
   "execution_count": null,
   "metadata": {},
   "outputs": [],
   "source": []
  },
  {
   "cell_type": "code",
   "execution_count": null,
   "metadata": {},
   "outputs": [],
   "source": []
  },
  {
   "cell_type": "code",
   "execution_count": null,
   "metadata": {},
   "outputs": [],
   "source": []
  }
 ],
 "metadata": {
  "kernelspec": {
   "display_name": "Python 3",
   "language": "python",
   "name": "python3"
  },
  "language_info": {
   "codemirror_mode": {
    "name": "ipython",
    "version": 3
   },
   "file_extension": ".py",
   "mimetype": "text/x-python",
   "name": "python",
   "nbconvert_exporter": "python",
   "pygments_lexer": "ipython3",
   "version": "3.7.0"
  }
 },
 "nbformat": 4,
 "nbformat_minor": 2
}
