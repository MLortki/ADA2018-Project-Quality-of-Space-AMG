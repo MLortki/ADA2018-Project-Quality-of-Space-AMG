{
 "cells": [
  {
   "cell_type": "markdown",
   "metadata": {},
   "source": [
    "# Zurich open data exploration\n",
    "\n",
    "## Reading csv, json and shape format datasets. Combining them into one central file, and visualizing some elements.\n",
    "\n",
    "One of the goals of our project is to study urban environment of Zurich city and afterwards associate it with insurance data. For this purpose, we will be utilizing public datasets published on <a href=\"url\">https://data.stadt-zuerich.ch/</a> website. Datasets we will be using contain, but are not limited to, public parks, schools, street lights, public WCs and etc. in Zurich. \n",
    "\n",
    "This notebook is used to load all relevant datasets found on https://data.stadt-zuerich.ch/ as well as the population per zip code data from https://opendata.swiss/en/dataset/bevoelkerung-pro-plz into a central file that will be used for the rest of the analysis."
   ]
  },
  {
   "cell_type": "code",
   "execution_count": null,
   "metadata": {},
   "outputs": [],
   "source": [
    "import pandas as pd\n",
    "import numpy as np\n",
    "import geopandas as gpd\n",
    "from os import listdir\n",
    "import matplotlib.pyplot as plt\n",
    "from shapely.geometry import Point\n",
    "import pyproj"
   ]
  },
  {
   "cell_type": "code",
   "execution_count": null,
   "metadata": {},
   "outputs": [],
   "source": [
    "DATA_FOLDER = \"./data/\"\n",
    "CSV_JSON_FOLDER = DATA_FOLDER + './csv_json_files/'\n",
    "SHAPE_FOLDER = DATA_FOLDER + \"shapeFiles/\""
   ]
  },
  {
   "cell_type": "markdown",
   "metadata": {},
   "source": [
    "## Reading and loading the csv files"
   ]
  },
  {
   "cell_type": "code",
   "execution_count": null,
   "metadata": {},
   "outputs": [],
   "source": [
    "# create function that reads cleans and appends csv to the general dataframe\n",
    "def csv_read_clean_append(csv_file, duplicate_check, group_on, new_column, append_target=None):\n",
    "    \n",
    "    # load csv into dataframe, drop any duplacte rows, count values for group_on series \n",
    "    temp_df = pd.read_csv(CSV_JSON_FOLDER + csv_file).drop_duplicates(duplicate_check)[group_on].value_counts().to_frame(new_column)\n",
    "    \n",
    "    if append_target is None:\n",
    "        return temp_df\n",
    "    else:\n",
    "        return append_target.join(temp_df)"
   ]
  },
  {
   "cell_type": "code",
   "execution_count": null,
   "metadata": {},
   "outputs": [],
   "source": [
    "# start with addresses and number of hospitality companies\n",
    "combined_df = csv_read_clean_append('adressen.csv', 'adresse', 'plz', 'addresses')\n",
    "combined_df = csv_read_clean_append('gastwirtschaftsbetriebe_per_20171231.csv',\\\n",
    "                                    'Betriebsname', 'plz', 'hospitality_companies', combined_df)"
   ]
  },
  {
   "cell_type": "markdown",
   "metadata": {},
   "source": [
    "We now insert the population per zip code. We have to do some manual touching up, as the population is a sum of number of women and men."
   ]
  },
  {
   "cell_type": "code",
   "execution_count": null,
   "metadata": {},
   "outputs": [],
   "source": [
    "# read population per zip code file\n",
    "population_df = pd.read_csv(CSV_JSON_FOLDER +'bevoelkerung_proplz.csv',delimiter=';')\n",
    "\n",
    "# sum the men and women count per zip code to get population per zip code\n",
    "population_df = population_df[population_df['typ']\\\n",
    "                                .isin(['w', 'm'])]\\\n",
    "                                .groupby('plz')['anzahl']\\\n",
    "                                .agg('sum')\\\n",
    "                                .to_frame('population')\n",
    "\n",
    "# merge the population data to the rest\n",
    "combined_df = pd.merge(combined_df, population_df, 'inner', left_index=True, right_index=True)\n",
    "combined_df.head()"
   ]
  },
  {
   "cell_type": "markdown",
   "metadata": {},
   "source": [
    "## Reading and loading the json files"
   ]
  },
  {
   "cell_type": "code",
   "execution_count": null,
   "metadata": {},
   "outputs": [],
   "source": [
    "# create function that reads cleans and appends json datasets to the general dataframe\n",
    "def json_read_clean_append(json_file, duplicate_check, group_on, new_column, append_target=None):\n",
    "    \n",
    "    # first read json using geopandas\n",
    "    temp_df = gpd.read_file(CSV_JSON_FOLDER + json_file)\n",
    "    \n",
    "    \n",
    "    # load json into dataframe, drop any duplicate rows, count values for group_on series \n",
    "    temp_df = pd.DataFrame(temp_df).drop_duplicates(duplicate_check)[group_on].value_counts().to_frame(new_column)\n",
    "    temp_df.index = pd.to_numeric(temp_df.index)\n",
    "    \n",
    "    if append_target is None:\n",
    "        return temp_df\n",
    "    else:\n",
    "        return pd.merge(append_target, temp_df, 'left', left_index=True,right_index=True)"
   ]
  },
  {
   "cell_type": "code",
   "execution_count": null,
   "metadata": {},
   "outputs": [],
   "source": [
    "# loop through json files in data folder and add to general df with function above\n",
    "for file in listdir(CSV_JSON_FOLDER):\n",
    "    if file.endswith('.json'):\n",
    "        combined_df = json_read_clean_append(file,'adresse', 'plz', file[:-5], combined_df)"
   ]
  },
  {
   "cell_type": "markdown",
   "metadata": {},
   "source": [
    "## Reading and loading the shape files"
   ]
  },
  {
   "cell_type": "markdown",
   "metadata": {},
   "source": [
    "Shape files contain spatial information in form of point coordinates (longitude and latitude). In order to identify to which postal code they belong, we will be using zips.shp file that contains polygons describing area of zip codes in Switzerland. Furthermore, we will utilize geopandas functionality to join points with zip codes. One should also pay special attention to coordinate sysem. In order to join correctly all shape files should agree on coordinate system. Therefore, we will take coordinate systems used in zips.shp file as default and convert any other one into it for consistency."
   ]
  },
  {
   "cell_type": "code",
   "execution_count": null,
   "metadata": {},
   "outputs": [],
   "source": [
    "#read zips data\n",
    "zips = gpd.read_file(SHAPE_FOLDER + \"zips.shp\")\n",
    "zips.columns = ['UUID', 'OS_UUID', 'STATUS', 'INAEND', 'ZIP', 'ZUSZIFF','geometry']\n",
    "\n",
    "#default coordinate system\n",
    "COORDINATE_SYSTEM = zips.crs\n",
    "print(\"used coordinate system: \", zips.crs)"
   ]
  },
  {
   "cell_type": "markdown",
   "metadata": {},
   "source": [
    "Now we define method to read shape files into dataframe, to remove duplicates and convert coordinates to default coordinate system."
   ]
  },
  {
   "cell_type": "code",
   "execution_count": null,
   "metadata": {},
   "outputs": [],
   "source": [
    "#default coordinate system\n",
    "COORDINATE_SYSTEM = {'init': 'epsg:4326'}\n",
    "\n",
    "def read_shape_file(file_name):\n",
    "    df = gpd.read_file(SHAPE_FOLDER + file_name)\n",
    "    \n",
    "    #drop duplicates\n",
    "    G = df[\"geometry\"].apply(lambda geom: geom.wkb)\n",
    "    df = df.loc[G.drop_duplicates().index]\n",
    "    \n",
    "    #convert to default coordinate systen\n",
    "    if (df.crs != COORDINATE_SYSTEM):\n",
    "        df = df.to_crs(COORDINATE_SYSTEM)\n",
    "    \n",
    "    return df"
   ]
  },
  {
   "cell_type": "markdown",
   "metadata": {},
   "source": [
    "Furthermore, we define method that joins points with corresponding polygons. Meaning we will much each coordinate (longitute and latitude) with corresponding zip code in Zurich and then groups counts by zip code."
   ]
  },
  {
   "cell_type": "code",
   "execution_count": null,
   "metadata": {},
   "outputs": [],
   "source": [
    "def join_points_with_zips(df):\n",
    "    \"\"\"join coordinates with zip codes\"\"\"\n",
    "    pointInPoly = gpd.sjoin(df, zips, op='within') \n",
    "    return pointInPoly"
   ]
  },
  {
   "cell_type": "code",
   "execution_count": null,
   "metadata": {},
   "outputs": [],
   "source": [
    "def grouping_by_zipcode(df, new_column):\n",
    "    \"\"\"group item counts per zip codes\"\"\"\n",
    "    df = df.groupby('ZIP').size().reset_index(name=new_column)\n",
    "    df.set_index('ZIP', inplace=True)\n",
    "    return df"
   ]
  },
  {
   "cell_type": "markdown",
   "metadata": {},
   "source": [
    "The method below will be used for appending information in the shape file to the existing central dataframe for aggregation of all information into one file."
   ]
  },
  {
   "cell_type": "code",
   "execution_count": null,
   "metadata": {},
   "outputs": [],
   "source": [
    "# create function that reads cleans and appends shape datasets to the general dataframe\n",
    "def shape_read_clean_append(shape_file, new_column, append_target=None):\n",
    "    \n",
    "    # first read shape, drop duplicates\n",
    "    temp_df = read_shape_file(shape_file)\n",
    "    \n",
    "    temp_df = join_points_with_zips(temp_df)\n",
    "    \n",
    "    # load shape into dataframe, drop any duplicate rows, count values for group_on series \n",
    "    temp_df = grouping_by_zipcode(temp_df, new_column)\n",
    "    temp_df.index = pd.to_numeric(temp_df.index)\n",
    "    #display(temp_df.head(2))\n",
    "    \n",
    "    if append_target is None:\n",
    "        return temp_df\n",
    "    else:\n",
    "        return pd.merge(append_target, temp_df, 'left', left_index=True,right_index=True)"
   ]
  },
  {
   "cell_type": "markdown",
   "metadata": {},
   "source": [
    "Now we will read all shape files from corresponding folder and load them into the central dataframe."
   ]
  },
  {
   "cell_type": "code",
   "execution_count": null,
   "metadata": {},
   "outputs": [],
   "source": [
    "# loop through shp files in data folder and add to general df with function above\n",
    "for file in listdir(SHAPE_FOLDER):\n",
    "    if file.endswith('.shp'):\n",
    "        combined_df = shape_read_clean_append(file, file[:-4], combined_df)"
   ]
  },
  {
   "cell_type": "markdown",
   "metadata": {},
   "source": [
    "(\"External Dataset Preprocessing.ipynb\" contains some additional information about shape files)"
   ]
  },
  {
   "cell_type": "markdown",
   "metadata": {},
   "source": [
    "## Final Merging"
   ]
  },
  {
   "cell_type": "markdown",
   "metadata": {},
   "source": [
    "At the end we save combined information into .csv file for further usage."
   ]
  },
  {
   "cell_type": "code",
   "execution_count": null,
   "metadata": {},
   "outputs": [],
   "source": [
    "# drop zip codes that are not used (last 5 rows), and fill other nans with zeros\n",
    "combined_df = combined_df.dropna(subset=['hospitality_companies']).fillna(0)\n",
    "combined_df.to_csv(DATA_FOLDER + \"open_data_aggregated.csv\")\n",
    "combined_df.head()"
   ]
  },
  {
   "cell_type": "markdown",
   "metadata": {},
   "source": [
    "As we see datasets we will be using consists of:\n",
    "\n",
    "- Addresses - 57923 in total\n",
    "- Hospitality companies - 2097 in total\n",
    "- Population - 509285 in total\n",
    "- Beach volleyball - 12 in total\n",
    "- Bike Parks - 1 in total\n",
    "- Care centers - 20 in total\n",
    "- Community centers - 18 in total\n",
    "- Elementary schools - 115 in total\n",
    "- Football fields - 15 in total\n",
    "- Ice rinks - 3 in total\n",
    "- Indoor pools - 7 in total\n",
    "- Kindergartens - 241 in total\n",
    "- Mobility rental - 227 in total\n",
    "- Nurseries - 316 in total\n",
    "- Outdoor pools - 6 in total\n",
    "- Police locations - 28 in total\n",
    "- Skate parks - 8 in total\n",
    "- Tennis courts - 8 in total\n",
    "- Parks - 118 in total\n",
    "- Street Lights (Beleuchtung) - 40010 in total\n",
    "- Old people center (Alterszentrum) - 28 in total\n",
    "- Retirment houses (Alterswohnung) - 36 in total\n",
    "- Handicapped parking (Behindertenparkplatz) - 410 in total\n",
    "- Fontaines (brunnen) - 1281 in total\n",
    "- Youth clubs/centers/ meeting center (Jugendtreff) - 13 in total\n",
    "- Kindergarten - 354 in total\n",
    "- Kinderhaus / Eltern-Kind-Zentrum - 16 in total\n",
    "- Churches (Kirche) - 82 in total\n",
    "- Temporary art in the urban space (Kunst im Stadtraum) - 388 in total\n",
    "- picknickplatz - 110 in total\n",
    "- social center (sozial zentrum) - 5 in total\n",
    "- Gym (Sporthalle) - 16 in total\n",
    "- Stadium - 1 in total (therefore won't be using, unless for combined sports metric)\n",
    "- WC handicapped - 28 in total\n",
    "- WC not handicapped - 77 in total"
   ]
  },
  {
   "cell_type": "markdown",
   "metadata": {},
   "source": [
    "## Creating aggregated and normalized features\n",
    "\n",
    "We combine features to create the following columns: sports_facilities, child_facilities, elderly_facilities, parks, toilets, handicapped_facilities (handicapp), transport_rental, community_facilities"
   ]
  },
  {
   "cell_type": "code",
   "execution_count": null,
   "metadata": {},
   "outputs": [],
   "source": [
    "combined_df.columns"
   ]
  },
  {
   "cell_type": "code",
   "execution_count": null,
   "metadata": {},
   "outputs": [],
   "source": [
    "# aggregate features and rename others to english\n",
    "aggregated_df = combined_df[['addresses', 'hospitality_companies', 'population','police_locations']]\n",
    "aggregated_df = aggregated_df.assign(parks=combined_df[['Park', 'Picknickplatz']].sum(axis=1))\n",
    "\n",
    "aggregated_df = aggregated_df.assign(sport_facilities=combined_df\\\n",
    "                                    [['indoor_pools', 'outdoor_pools','ice_rinks', 'skate_parks','football_fields',\\\n",
    "                                    'tennis_courts','bikeparks','beachvolleyball','Stadion', 'Sporthalle']].sum(axis=1))\n",
    "\n",
    "aggregated_df = aggregated_df.assign(child_facilities=combined_df[['elementary_schools', 'nurseries','kindergartens',\\\n",
    "                                    'Kinderhaus']].sum(axis=1))\n",
    "\n",
    "aggregated_df = aggregated_df.assign(elderly_facilities=combined_df[['care_centers', 'Alterswohnung','Alterszentrum']]\\\n",
    "                                     .sum(axis=1))\n",
    "\n",
    "aggregated_df = aggregated_df.assign(toilets=combined_df[['ZueriWC_nichtrollstuhlgaengig', 'ZueriWC_rollstuhlgaengig']]\\\n",
    "                                     .sum(axis=1))\n",
    "\n",
    "aggregated_df = aggregated_df.assign(handicapp=combined_df[['Behindertenparkplatz', 'ZueriWC_rollstuhlgaengig']]\\\n",
    "                                     .sum(axis=1))\n",
    "\n",
    "aggregated_df = aggregated_df.assign(transport_rental=combined_df[['Mobility_rental', 'publibike']]\\\n",
    "                                     .sum(axis=1))\n",
    "\n",
    "aggregated_df = aggregated_df.assign(community_facilities=combined_df[['community_centers', 'Jugendtreff']]\\\n",
    "                                     .sum(axis=1))\n",
    "\n",
    "\n",
    "aggregated_df = aggregated_df.assign(fountains=combined_df['Brunnen'])\n",
    "aggregated_df = aggregated_df.assign(street_art=combined_df['KunstImStadtraum'])\n",
    "aggregated_df = aggregated_df.assign(social_centers=combined_df['Sozialzentrum'])\n",
    "aggregated_df = aggregated_df.assign(street_lights=combined_df['Beleuchtung'])\n",
    "aggregated_df = aggregated_df.assign(churches=combined_df['Kirche'])\n",
    "aggregated_df.head()"
   ]
  },
  {
   "cell_type": "code",
   "execution_count": null,
   "metadata": {
    "scrolled": true
   },
   "outputs": [],
   "source": [
    "# normalizing by population\n",
    "pop_normed_df = aggregated_df.div(aggregated_df.population, axis=0).drop(columns='population')\n",
    "pop_normed_df.head()"
   ]
  },
  {
   "cell_type": "code",
   "execution_count": null,
   "metadata": {
    "scrolled": true
   },
   "outputs": [],
   "source": [
    "# extract geometries for each zip and join on zip to aggregated_df. Create new dataframe with aggregated data and geom\n",
    "aggregated_df2 = aggregated_df\n",
    "aggregated_df2 = pd.merge(aggregated_df2, zips[['ZIP', 'geometry']].set_index('ZIP'), 'inner', left_index=True,right_index=True)\n",
    "aggregated_df2 = aggregated_df2.drop_duplicates('addresses')\n",
    "\n",
    "# get geopandas df\n",
    "zurich_zips_geoms = gpd.GeoDataFrame(aggregated_df2.geometry)\n",
    "\n",
    "# use coordinate system of shape file\n",
    "zurich_zips_geoms.crs = {'init': 'epsg:4326'}\n",
    "\n",
    "# project to equal area cylindrical and calculate area in square kilometers\n",
    "zips_areas = zurich_zips_geoms.geometry.to_crs({'proj':'cea'}).map(lambda p: p.area / 10**6)\n",
    "\n",
    "# create new dataframe with aggregated data normalized by area \n",
    "area_normed_df = aggregated_df.div(zips_areas, axis=0)\n",
    "area_normed_df.head()"
   ]
  },
  {
   "cell_type": "code",
   "execution_count": null,
   "metadata": {},
   "outputs": [],
   "source": [
    "point1 = Point(50.67, 4.62)\n",
    "point2 = Point(51.67, 4.64)\n",
    "\n",
    "geod = pyproj.Geod(ellps='WGS84')\n",
    "angle1,angle2,distance = geod.inv(point1.x, point1.y, point2.x, point2.y)\n",
    "print(distance/1000)"
   ]
  },
  {
   "cell_type": "code",
   "execution_count": 93,
   "metadata": {},
   "outputs": [
    {
     "data": {
      "text/html": [
       "<div>\n",
       "<style scoped>\n",
       "    .dataframe tbody tr th:only-of-type {\n",
       "        vertical-align: middle;\n",
       "    }\n",
       "\n",
       "    .dataframe tbody tr th {\n",
       "        vertical-align: top;\n",
       "    }\n",
       "\n",
       "    .dataframe thead th {\n",
       "        text-align: right;\n",
       "    }\n",
       "</style>\n",
       "<table border=\"1\" class=\"dataframe\">\n",
       "  <thead>\n",
       "    <tr style=\"text-align: right;\">\n",
       "      <th></th>\n",
       "      <th>plz</th>\n",
       "      <th>geometry</th>\n",
       "    </tr>\n",
       "  </thead>\n",
       "  <tbody>\n",
       "    <tr>\n",
       "      <th>0</th>\n",
       "      <td>8048</td>\n",
       "      <td>POINT (8.505701286647051 47.38321309177221)</td>\n",
       "    </tr>\n",
       "    <tr>\n",
       "      <th>1</th>\n",
       "      <td>8048</td>\n",
       "      <td>POINT (8.478133315673031 47.3907974916887)</td>\n",
       "    </tr>\n",
       "    <tr>\n",
       "      <th>2</th>\n",
       "      <td>8006</td>\n",
       "      <td>POINT (8.544878299474929 47.3928419137778)</td>\n",
       "    </tr>\n",
       "    <tr>\n",
       "      <th>3</th>\n",
       "      <td>8064</td>\n",
       "      <td>POINT (8.477342133766768 47.4001601473413)</td>\n",
       "    </tr>\n",
       "    <tr>\n",
       "      <th>4</th>\n",
       "      <td>8064</td>\n",
       "      <td>POINT (8.47750095208948 47.40040407573461)</td>\n",
       "    </tr>\n",
       "  </tbody>\n",
       "</table>\n",
       "</div>"
      ],
      "text/plain": [
       "    plz                                     geometry\n",
       "0  8048  POINT (8.505701286647051 47.38321309177221)\n",
       "1  8048   POINT (8.478133315673031 47.3907974916887)\n",
       "2  8006   POINT (8.544878299474929 47.3928419137778)\n",
       "3  8064   POINT (8.477342133766768 47.4001601473413)\n",
       "4  8064   POINT (8.47750095208948 47.40040407573461)"
      ]
     },
     "metadata": {},
     "output_type": "display_data"
    },
    {
     "name": "stdout",
     "output_type": "stream",
     "text": [
      "Shape of buildings:  (58260, 2)\n"
     ]
    },
    {
     "data": {
      "text/plain": [
       "0      POINT (8.50940278693184 47.3795806101971)\n",
       "1    POINT (8.534235628571883 47.41123530013046)\n",
       "2    POINT (8.513664780449393 47.33483506723053)\n",
       "3    POINT (8.532626779342227 47.35615539797409)\n",
       "4    POINT (8.498499038481786 47.42393678597789)\n",
       "Name: parks, dtype: object"
      ]
     },
     "metadata": {},
     "output_type": "display_data"
    },
    {
     "name": "stdout",
     "output_type": "stream",
     "text": [
      "shape of metric parks (228,)\n",
      "distance array size 58260\n"
     ]
    },
    {
     "data": {
      "text/html": [
       "<div>\n",
       "<style scoped>\n",
       "    .dataframe tbody tr th:only-of-type {\n",
       "        vertical-align: middle;\n",
       "    }\n",
       "\n",
       "    .dataframe tbody tr th {\n",
       "        vertical-align: top;\n",
       "    }\n",
       "\n",
       "    .dataframe thead th {\n",
       "        text-align: right;\n",
       "    }\n",
       "</style>\n",
       "<table border=\"1\" class=\"dataframe\">\n",
       "  <thead>\n",
       "    <tr style=\"text-align: right;\">\n",
       "      <th></th>\n",
       "      <th>plz</th>\n",
       "      <th>geometry</th>\n",
       "      <th>parks_distance</th>\n",
       "    </tr>\n",
       "  </thead>\n",
       "  <tbody>\n",
       "    <tr>\n",
       "      <th>0</th>\n",
       "      <td>8048</td>\n",
       "      <td>POINT (8.505701286647051 47.38321309177221)</td>\n",
       "      <td>409.433469</td>\n",
       "    </tr>\n",
       "    <tr>\n",
       "      <th>1</th>\n",
       "      <td>8048</td>\n",
       "      <td>POINT (8.478133315673031 47.3907974916887)</td>\n",
       "      <td>1057.558509</td>\n",
       "    </tr>\n",
       "    <tr>\n",
       "      <th>2</th>\n",
       "      <td>8006</td>\n",
       "      <td>POINT (8.544878299474929 47.3928419137778)</td>\n",
       "      <td>588.519043</td>\n",
       "    </tr>\n",
       "    <tr>\n",
       "      <th>3</th>\n",
       "      <td>8064</td>\n",
       "      <td>POINT (8.477342133766768 47.4001601473413)</td>\n",
       "      <td>780.338745</td>\n",
       "    </tr>\n",
       "    <tr>\n",
       "      <th>4</th>\n",
       "      <td>8064</td>\n",
       "      <td>POINT (8.47750095208948 47.40040407573461)</td>\n",
       "      <td>768.746264</td>\n",
       "    </tr>\n",
       "  </tbody>\n",
       "</table>\n",
       "</div>"
      ],
      "text/plain": [
       "    plz                                     geometry  parks_distance\n",
       "0  8048  POINT (8.505701286647051 47.38321309177221)      409.433469\n",
       "1  8048   POINT (8.478133315673031 47.3907974916887)     1057.558509\n",
       "2  8006   POINT (8.544878299474929 47.3928419137778)      588.519043\n",
       "3  8064   POINT (8.477342133766768 47.4001601473413)      780.338745\n",
       "4  8064   POINT (8.47750095208948 47.40040407573461)      768.746264"
      ]
     },
     "metadata": {},
     "output_type": "display_data"
    },
    {
     "data": {
      "text/plain": [
       "0    POINT (8.539240622559349 47.3898963585722)\n",
       "1    POINT (8.542187336097671 47.3767712838811)\n",
       "2    POINT (8.542187336097671 47.3767712838811)\n",
       "3      POINT (8.51930905324452 47.370466213704)\n",
       "4    POINT (8.528832167715191 47.3789594670275)\n",
       "Name: police_locations, dtype: object"
      ]
     },
     "metadata": {},
     "output_type": "display_data"
    },
    {
     "name": "stdout",
     "output_type": "stream",
     "text": [
      "shape of metric police_locations (73,)\n",
      "distance array size 58260\n"
     ]
    },
    {
     "data": {
      "text/html": [
       "<div>\n",
       "<style scoped>\n",
       "    .dataframe tbody tr th:only-of-type {\n",
       "        vertical-align: middle;\n",
       "    }\n",
       "\n",
       "    .dataframe tbody tr th {\n",
       "        vertical-align: top;\n",
       "    }\n",
       "\n",
       "    .dataframe thead th {\n",
       "        text-align: right;\n",
       "    }\n",
       "</style>\n",
       "<table border=\"1\" class=\"dataframe\">\n",
       "  <thead>\n",
       "    <tr style=\"text-align: right;\">\n",
       "      <th></th>\n",
       "      <th>plz</th>\n",
       "      <th>geometry</th>\n",
       "      <th>parks_distance</th>\n",
       "      <th>police_locations_distance</th>\n",
       "    </tr>\n",
       "  </thead>\n",
       "  <tbody>\n",
       "    <tr>\n",
       "      <th>0</th>\n",
       "      <td>8048</td>\n",
       "      <td>POINT (8.505701286647051 47.38321309177221)</td>\n",
       "      <td>409.433469</td>\n",
       "      <td>1121.332717</td>\n",
       "    </tr>\n",
       "    <tr>\n",
       "      <th>1</th>\n",
       "      <td>8048</td>\n",
       "      <td>POINT (8.478133315673031 47.3907974916887)</td>\n",
       "      <td>1057.558509</td>\n",
       "      <td>740.506532</td>\n",
       "    </tr>\n",
       "    <tr>\n",
       "      <th>2</th>\n",
       "      <td>8006</td>\n",
       "      <td>POINT (8.544878299474929 47.3928419137778)</td>\n",
       "      <td>588.519043</td>\n",
       "      <td>536.870557</td>\n",
       "    </tr>\n",
       "    <tr>\n",
       "      <th>3</th>\n",
       "      <td>8064</td>\n",
       "      <td>POINT (8.477342133766768 47.4001601473413)</td>\n",
       "      <td>780.338745</td>\n",
       "      <td>1618.240347</td>\n",
       "    </tr>\n",
       "    <tr>\n",
       "      <th>4</th>\n",
       "      <td>8064</td>\n",
       "      <td>POINT (8.47750095208948 47.40040407573461)</td>\n",
       "      <td>768.746264</td>\n",
       "      <td>1638.307364</td>\n",
       "    </tr>\n",
       "  </tbody>\n",
       "</table>\n",
       "</div>"
      ],
      "text/plain": [
       "    plz                                     geometry  parks_distance  \\\n",
       "0  8048  POINT (8.505701286647051 47.38321309177221)      409.433469   \n",
       "1  8048   POINT (8.478133315673031 47.3907974916887)     1057.558509   \n",
       "2  8006   POINT (8.544878299474929 47.3928419137778)      588.519043   \n",
       "3  8064   POINT (8.477342133766768 47.4001601473413)      780.338745   \n",
       "4  8064   POINT (8.47750095208948 47.40040407573461)      768.746264   \n",
       "\n",
       "   police_locations_distance  \n",
       "0                1121.332717  \n",
       "1                 740.506532  \n",
       "2                 536.870557  \n",
       "3                1618.240347  \n",
       "4                1638.307364  "
      ]
     },
     "metadata": {},
     "output_type": "display_data"
    },
    {
     "data": {
      "text/plain": [
       "0    POINT Z (8.551019101731143 47.3531836409585 47...\n",
       "1    POINT Z (8.539588039534847 47.33805530220663 4...\n",
       "2    POINT Z (8.531515461921529 47.37742293127232 4...\n",
       "3    POINT Z (8.525186310595497 47.37551270634128 4...\n",
       "4    POINT Z (8.529743296972891 47.37624333281196 4...\n",
       "Name: toilets, dtype: object"
      ]
     },
     "metadata": {},
     "output_type": "display_data"
    },
    {
     "name": "stdout",
     "output_type": "stream",
     "text": [
      "shape of metric toilets (105,)\n",
      "distance array size 58260\n"
     ]
    },
    {
     "data": {
      "text/html": [
       "<div>\n",
       "<style scoped>\n",
       "    .dataframe tbody tr th:only-of-type {\n",
       "        vertical-align: middle;\n",
       "    }\n",
       "\n",
       "    .dataframe tbody tr th {\n",
       "        vertical-align: top;\n",
       "    }\n",
       "\n",
       "    .dataframe thead th {\n",
       "        text-align: right;\n",
       "    }\n",
       "</style>\n",
       "<table border=\"1\" class=\"dataframe\">\n",
       "  <thead>\n",
       "    <tr style=\"text-align: right;\">\n",
       "      <th></th>\n",
       "      <th>plz</th>\n",
       "      <th>geometry</th>\n",
       "      <th>parks_distance</th>\n",
       "      <th>police_locations_distance</th>\n",
       "      <th>toilets_distance</th>\n",
       "    </tr>\n",
       "  </thead>\n",
       "  <tbody>\n",
       "    <tr>\n",
       "      <th>0</th>\n",
       "      <td>8048</td>\n",
       "      <td>POINT (8.505701286647051 47.38321309177221)</td>\n",
       "      <td>409.433469</td>\n",
       "      <td>1121.332717</td>\n",
       "      <td>506.483311</td>\n",
       "    </tr>\n",
       "    <tr>\n",
       "      <th>1</th>\n",
       "      <td>8048</td>\n",
       "      <td>POINT (8.478133315673031 47.3907974916887)</td>\n",
       "      <td>1057.558509</td>\n",
       "      <td>740.506532</td>\n",
       "      <td>71.635238</td>\n",
       "    </tr>\n",
       "    <tr>\n",
       "      <th>2</th>\n",
       "      <td>8006</td>\n",
       "      <td>POINT (8.544878299474929 47.3928419137778)</td>\n",
       "      <td>588.519043</td>\n",
       "      <td>536.870557</td>\n",
       "      <td>499.852502</td>\n",
       "    </tr>\n",
       "    <tr>\n",
       "      <th>3</th>\n",
       "      <td>8064</td>\n",
       "      <td>POINT (8.477342133766768 47.4001601473413)</td>\n",
       "      <td>780.338745</td>\n",
       "      <td>1618.240347</td>\n",
       "      <td>436.093134</td>\n",
       "    </tr>\n",
       "    <tr>\n",
       "      <th>4</th>\n",
       "      <td>8064</td>\n",
       "      <td>POINT (8.47750095208948 47.40040407573461)</td>\n",
       "      <td>768.746264</td>\n",
       "      <td>1638.307364</td>\n",
       "      <td>442.689598</td>\n",
       "    </tr>\n",
       "  </tbody>\n",
       "</table>\n",
       "</div>"
      ],
      "text/plain": [
       "    plz                                     geometry  parks_distance  \\\n",
       "0  8048  POINT (8.505701286647051 47.38321309177221)      409.433469   \n",
       "1  8048   POINT (8.478133315673031 47.3907974916887)     1057.558509   \n",
       "2  8006   POINT (8.544878299474929 47.3928419137778)      588.519043   \n",
       "3  8064   POINT (8.477342133766768 47.4001601473413)      780.338745   \n",
       "4  8064   POINT (8.47750095208948 47.40040407573461)      768.746264   \n",
       "\n",
       "   police_locations_distance  toilets_distance  \n",
       "0                1121.332717        506.483311  \n",
       "1                 740.506532         71.635238  \n",
       "2                 536.870557        499.852502  \n",
       "3                1618.240347        436.093134  \n",
       "4                1638.307364        442.689598  "
      ]
     },
     "metadata": {},
     "output_type": "display_data"
    },
    {
     "data": {
      "text/plain": [
       "0    POINT Z (8.558778022256497 47.36085351345452 4...\n",
       "1    POINT Z (8.518675380350361 47.36264777483779 4...\n",
       "2    POINT Z (8.523519190696026 47.38989353867292 4...\n",
       "3    POINT Z (8.484670609013309 47.37441150357304 4...\n",
       "4    POINT Z (8.535083378697932 47.39894137084008 4...\n",
       "Name: handicapp, dtype: object"
      ]
     },
     "metadata": {},
     "output_type": "display_data"
    },
    {
     "name": "stdout",
     "output_type": "stream",
     "text": [
      "shape of metric handicapp (487,)\n",
      "distance array size 58260\n"
     ]
    },
    {
     "data": {
      "text/html": [
       "<div>\n",
       "<style scoped>\n",
       "    .dataframe tbody tr th:only-of-type {\n",
       "        vertical-align: middle;\n",
       "    }\n",
       "\n",
       "    .dataframe tbody tr th {\n",
       "        vertical-align: top;\n",
       "    }\n",
       "\n",
       "    .dataframe thead th {\n",
       "        text-align: right;\n",
       "    }\n",
       "</style>\n",
       "<table border=\"1\" class=\"dataframe\">\n",
       "  <thead>\n",
       "    <tr style=\"text-align: right;\">\n",
       "      <th></th>\n",
       "      <th>plz</th>\n",
       "      <th>geometry</th>\n",
       "      <th>parks_distance</th>\n",
       "      <th>police_locations_distance</th>\n",
       "      <th>toilets_distance</th>\n",
       "      <th>handicapp_distance</th>\n",
       "    </tr>\n",
       "  </thead>\n",
       "  <tbody>\n",
       "    <tr>\n",
       "      <th>0</th>\n",
       "      <td>8048</td>\n",
       "      <td>POINT (8.505701286647051 47.38321309177221)</td>\n",
       "      <td>409.433469</td>\n",
       "      <td>1121.332717</td>\n",
       "      <td>506.483311</td>\n",
       "      <td>73.561838</td>\n",
       "    </tr>\n",
       "    <tr>\n",
       "      <th>1</th>\n",
       "      <td>8048</td>\n",
       "      <td>POINT (8.478133315673031 47.3907974916887)</td>\n",
       "      <td>1057.558509</td>\n",
       "      <td>740.506532</td>\n",
       "      <td>71.635238</td>\n",
       "      <td>71.635238</td>\n",
       "    </tr>\n",
       "    <tr>\n",
       "      <th>2</th>\n",
       "      <td>8006</td>\n",
       "      <td>POINT (8.544878299474929 47.3928419137778)</td>\n",
       "      <td>588.519043</td>\n",
       "      <td>536.870557</td>\n",
       "      <td>499.852502</td>\n",
       "      <td>221.838226</td>\n",
       "    </tr>\n",
       "    <tr>\n",
       "      <th>3</th>\n",
       "      <td>8064</td>\n",
       "      <td>POINT (8.477342133766768 47.4001601473413)</td>\n",
       "      <td>780.338745</td>\n",
       "      <td>1618.240347</td>\n",
       "      <td>436.093134</td>\n",
       "      <td>662.425931</td>\n",
       "    </tr>\n",
       "    <tr>\n",
       "      <th>4</th>\n",
       "      <td>8064</td>\n",
       "      <td>POINT (8.47750095208948 47.40040407573461)</td>\n",
       "      <td>768.746264</td>\n",
       "      <td>1638.307364</td>\n",
       "      <td>442.689598</td>\n",
       "      <td>632.798164</td>\n",
       "    </tr>\n",
       "  </tbody>\n",
       "</table>\n",
       "</div>"
      ],
      "text/plain": [
       "    plz                                     geometry  parks_distance  \\\n",
       "0  8048  POINT (8.505701286647051 47.38321309177221)      409.433469   \n",
       "1  8048   POINT (8.478133315673031 47.3907974916887)     1057.558509   \n",
       "2  8006   POINT (8.544878299474929 47.3928419137778)      588.519043   \n",
       "3  8064   POINT (8.477342133766768 47.4001601473413)      780.338745   \n",
       "4  8064   POINT (8.47750095208948 47.40040407573461)      768.746264   \n",
       "\n",
       "   police_locations_distance  toilets_distance  handicapp_distance  \n",
       "0                1121.332717        506.483311           73.561838  \n",
       "1                 740.506532         71.635238           71.635238  \n",
       "2                 536.870557        499.852502          221.838226  \n",
       "3                1618.240347        436.093134          662.425931  \n",
       "4                1638.307364        442.689598          632.798164  "
      ]
     },
     "metadata": {},
     "output_type": "display_data"
    },
    {
     "data": {
      "text/plain": [
       "0      POINT (8.5004599209453 47.3918199480363)\n",
       "1      POINT (8.5004599209453 47.3918199480363)\n",
       "2    POINT (8.498509549776781 47.3923896087339)\n",
       "3     POINT (8.49889506040714 47.4016426347132)\n",
       "4      POINT (8.5329884834744 47.3830914337617)\n",
       "Name: hospitality_companies, dtype: object"
      ]
     },
     "metadata": {},
     "output_type": "display_data"
    },
    {
     "name": "stdout",
     "output_type": "stream",
     "text": [
      "shape of metric hospitality_companies (2224,)\n",
      "distance array size 58260\n"
     ]
    },
    {
     "data": {
      "text/html": [
       "<div>\n",
       "<style scoped>\n",
       "    .dataframe tbody tr th:only-of-type {\n",
       "        vertical-align: middle;\n",
       "    }\n",
       "\n",
       "    .dataframe tbody tr th {\n",
       "        vertical-align: top;\n",
       "    }\n",
       "\n",
       "    .dataframe thead th {\n",
       "        text-align: right;\n",
       "    }\n",
       "</style>\n",
       "<table border=\"1\" class=\"dataframe\">\n",
       "  <thead>\n",
       "    <tr style=\"text-align: right;\">\n",
       "      <th></th>\n",
       "      <th>plz</th>\n",
       "      <th>geometry</th>\n",
       "      <th>parks_distance</th>\n",
       "      <th>police_locations_distance</th>\n",
       "      <th>toilets_distance</th>\n",
       "      <th>handicapp_distance</th>\n",
       "      <th>hospitality_companies_distance</th>\n",
       "    </tr>\n",
       "  </thead>\n",
       "  <tbody>\n",
       "    <tr>\n",
       "      <th>0</th>\n",
       "      <td>8048</td>\n",
       "      <td>POINT (8.505701286647051 47.38321309177221)</td>\n",
       "      <td>409.433469</td>\n",
       "      <td>1121.332717</td>\n",
       "      <td>506.483311</td>\n",
       "      <td>73.561838</td>\n",
       "      <td>38.745401</td>\n",
       "    </tr>\n",
       "    <tr>\n",
       "      <th>1</th>\n",
       "      <td>8048</td>\n",
       "      <td>POINT (8.478133315673031 47.3907974916887)</td>\n",
       "      <td>1057.558509</td>\n",
       "      <td>740.506532</td>\n",
       "      <td>71.635238</td>\n",
       "      <td>71.635238</td>\n",
       "      <td>30.831961</td>\n",
       "    </tr>\n",
       "    <tr>\n",
       "      <th>2</th>\n",
       "      <td>8006</td>\n",
       "      <td>POINT (8.544878299474929 47.3928419137778)</td>\n",
       "      <td>588.519043</td>\n",
       "      <td>536.870557</td>\n",
       "      <td>499.852502</td>\n",
       "      <td>221.838226</td>\n",
       "      <td>189.351574</td>\n",
       "    </tr>\n",
       "    <tr>\n",
       "      <th>3</th>\n",
       "      <td>8064</td>\n",
       "      <td>POINT (8.477342133766768 47.4001601473413)</td>\n",
       "      <td>780.338745</td>\n",
       "      <td>1618.240347</td>\n",
       "      <td>436.093134</td>\n",
       "      <td>662.425931</td>\n",
       "      <td>29.678371</td>\n",
       "    </tr>\n",
       "    <tr>\n",
       "      <th>4</th>\n",
       "      <td>8064</td>\n",
       "      <td>POINT (8.47750095208948 47.40040407573461)</td>\n",
       "      <td>768.746264</td>\n",
       "      <td>1638.307364</td>\n",
       "      <td>442.689598</td>\n",
       "      <td>632.798164</td>\n",
       "      <td>4.065005</td>\n",
       "    </tr>\n",
       "  </tbody>\n",
       "</table>\n",
       "</div>"
      ],
      "text/plain": [
       "    plz                                     geometry  parks_distance  \\\n",
       "0  8048  POINT (8.505701286647051 47.38321309177221)      409.433469   \n",
       "1  8048   POINT (8.478133315673031 47.3907974916887)     1057.558509   \n",
       "2  8006   POINT (8.544878299474929 47.3928419137778)      588.519043   \n",
       "3  8064   POINT (8.477342133766768 47.4001601473413)      780.338745   \n",
       "4  8064   POINT (8.47750095208948 47.40040407573461)      768.746264   \n",
       "\n",
       "   police_locations_distance  toilets_distance  handicapp_distance  \\\n",
       "0                1121.332717        506.483311           73.561838   \n",
       "1                 740.506532         71.635238           71.635238   \n",
       "2                 536.870557        499.852502          221.838226   \n",
       "3                1618.240347        436.093134          662.425931   \n",
       "4                1638.307364        442.689598          632.798164   \n",
       "\n",
       "   hospitality_companies_distance  \n",
       "0                       38.745401  \n",
       "1                       30.831961  \n",
       "2                      189.351574  \n",
       "3                       29.678371  \n",
       "4                        4.065005  "
      ]
     },
     "metadata": {},
     "output_type": "display_data"
    }
   ],
   "source": [
    "distance_dictionary = { \"parks\": ['Park.shp', \n",
    "                                  'Picknickplatz.shp'],\n",
    "                       \n",
    "                        \"police_locations\": ['police_locations.json'],\n",
    "                       \n",
    "                        \"toilets\": ['ZueriWC_nichtrollstuhlgaengig.shp', \n",
    "                                    'ZueriWC_rollstuhlgaengig.shp'],\n",
    "                                    \n",
    "                        \"handicapp\": ['ZueriWC_rollstuhlgaengig.shp', \n",
    "                                      'Behindertenparkplatz.shp'],\n",
    "                                    \n",
    "                        \"hospitality_companies\": ['gastwirtschaftsbetriebe_per_20171231.csv']}\n",
    "\n",
    "\n",
    "def find_distance_to_closest_point(origin, points):\n",
    "    \"\"\"Returns distance from origin to closest point in points\n",
    "    \"\"\"\n",
    "    \n",
    "    geod = pyproj.Geod(ellps='WGS84')\n",
    "    angle1, angle2, distance = geod.inv(origin.x, origin.y, points.iloc[0].x, points.iloc[0].y)\n",
    "    min_distance = distance\n",
    "    #min_distance = origin.distance(points.iloc[0])\n",
    "    \n",
    "    for point in points:\n",
    "        angle1, angle2, distance = geod.inv(origin.x, origin.y, point.x, point.y)\n",
    "        if (distance < min_distance):\n",
    "            min_distance = distance\n",
    "            \n",
    "    return min_distance\n",
    "\n",
    "\n",
    "def create_closest_distance_df(buildings, destinations, column_name):\n",
    "    \"\"\"Returns buildings dataframe containing info about distance to closest point in destinations for each row (Building)\n",
    "    \"\"\"\n",
    "    #print(buildings)\n",
    "    #display(destinations)\n",
    "    \n",
    "    distances = []\n",
    "    for index, building in buildings.iterrows():\n",
    "        \n",
    "        distance = find_distance_to_closest_point(building['geometry'], destinations)\n",
    "        #print(index, distance)\n",
    "        distances.append(distance)\n",
    "        #distances.append(5)\n",
    "     \n",
    "    print(\"distance array size\", len(distances))\n",
    "    #print(distances)\n",
    "    \n",
    "    buildings[column_name + \"_distance\"] = distances\n",
    "    return buildings\n",
    "\n",
    "def closest_distance(distance_dictionary):\n",
    "    \n",
    "    #read building file and create coordinates for each building for finding distances\n",
    "    buildings = pd.read_csv(CSV_JSON_FOLDER + \"adressen.csv\")\n",
    "    buildings['geometry'] = [Point(buildings.loc[i, 'easting_wgs'], \n",
    "                                   buildings.loc[i, 'northing_wgs']) for i in range(buildings.shape[0])]\n",
    "    buildings = buildings[['plz', 'geometry']]\n",
    "    #buildings.index = buildings.plz\n",
    "    #buildings.drop(['plz'], axis=1, inplace=True)\n",
    "    display(buildings.head())\n",
    "    print(\"Shape of buildings: \", buildings.shape)\n",
    "    \n",
    "    for metric, files in distance_dictionary.items():\n",
    "        merged_df = None\n",
    "\n",
    "        for file in files:\n",
    "            if file.endswith('.json'):\n",
    "                temp_df = gpd.read_file(CSV_JSON_FOLDER + file)['geometry']\n",
    "            if file.endswith('.csv'):\n",
    "                temp_df = pd.read_csv(CSV_JSON_FOLDER + file)\n",
    "                temp_df['geometry'] = [Point(temp_df.loc[i, 'X_WGS84'], \n",
    "                                             temp_df.loc[i, 'Y_WGS84']) for i in range(temp_df.shape[0])]\n",
    "                temp_df = temp_df['geometry'] \n",
    "            if file.endswith('.shp'):\n",
    "                temp_df = read_shape_file(file)['geometry']\n",
    "                \n",
    "            if (merged_df is None):\n",
    "                merged_df = temp_df\n",
    "            else:\n",
    "                merged_df = pd.concat([merged_df, temp_df], axis=0).reset_index(drop=True)\n",
    "           \n",
    "        merged_df.name = metric\n",
    "        display(merged_df.head())\n",
    "        print(\"shape of metric\",metric, merged_df.shape)\n",
    "        \n",
    "        buildings = create_closest_distance_df(buildings, merged_df, metric) \n",
    "        display(buildings.head())\n",
    "        \n",
    "    return buildings\n",
    "        \n",
    "    \n",
    "buildings = closest_distance(distance_dictionary)"
   ]
  },
  {
   "cell_type": "code",
   "execution_count": 94,
   "metadata": {},
   "outputs": [
    {
     "data": {
      "text/plain": [
       "(58260, 7)"
      ]
     },
     "execution_count": 94,
     "metadata": {},
     "output_type": "execute_result"
    }
   ],
   "source": [
    "buildings.shape"
   ]
  },
  {
   "cell_type": "code",
   "execution_count": 97,
   "metadata": {},
   "outputs": [],
   "source": [
    "buildings.to_csv(DATA_FOLDER + \"buildings_distance.csv\")"
   ]
  },
  {
   "cell_type": "markdown",
   "metadata": {},
   "source": [
    "## Exploring some of the Zurich open data"
   ]
  },
  {
   "cell_type": "code",
   "execution_count": null,
   "metadata": {},
   "outputs": [],
   "source": [
    "#read zips data\n",
    "zips = gpd.read_file(SHAPE_FOLDER + \"zips.shp\")\n",
    "zips.columns = ['UUID', 'OS_UUID', 'STATUS', 'INAEND', 'ZIP', 'ZUSZIFF','geometry']"
   ]
  },
  {
   "cell_type": "code",
   "execution_count": null,
   "metadata": {},
   "outputs": [],
   "source": [
    "# extract only geometries and zips and join on zurich zips \n",
    "area_normed_df2 = area_normed_df\n",
    "area_normed_df2 = pd.merge(area_normed_df2, zips[['ZIP', 'geometry']].set_index('ZIP'), 'inner', left_index=True,right_index=True)\n",
    "area_normed_df2 = area_normed_df2.drop_duplicates('addresses')"
   ]
  },
  {
   "cell_type": "code",
   "execution_count": null,
   "metadata": {},
   "outputs": [],
   "source": [
    "def plot_geopandas(gp, col_to_plot,title,colormap):\n",
    "    '''\n",
    "    This function creates a choropleth map using geopandas\n",
    "    \n",
    "    Parameters:\n",
    "    gp = geodataframe data containing geometry column\n",
    "    col_to_plot = column of data that must be plotted\n",
    "    title = title of the map\n",
    "    colormap = plt colormap to use, e.g. 'Blues', 'Accent', ...\n",
    "    '''\n",
    "    f, ax = plt.subplots(figsize=(15, 10))\n",
    "    \n",
    "    from mpl_toolkits.axes_grid1 import make_axes_locatable\n",
    "\n",
    "    # Create colorbar\n",
    "    divider = make_axes_locatable(ax)\n",
    "    cax = divider.append_axes(\"right\", size=\"5%\", pad=0.2)\n",
    "    \n",
    "    # plotting settings\n",
    "    ax.set_title(title, fontdict={'fontsize': '25', 'fontweight' : '3'})\n",
    "    ax.set_aspect('equal')\n",
    "    cax.set_aspect('equal')\n",
    "    cax.set_axis_off()\n",
    "    ax.set_axis_off()\n",
    "\n",
    "    # get preferred colormap\n",
    "    cmap = plt.cm.get_cmap(colormap)\n",
    "    \n",
    "    # plot data\n",
    "    gp.plot(column=col_to_plot, ax=cax, linewidth=0.1, edgecolor='black',cmap=cmap)\n",
    "    \n",
    "    # create colorbar\n",
    "    norm=plt.Normalize(vmin=gp[col_to_plot].min(), vmax=gp[col_to_plot].max())\n",
    "    sm = plt.cm.ScalarMappable(cmap=cmap,norm=norm)\n",
    "    sm._A = []\n",
    "    f.colorbar(sm)\n",
    "    \n",
    "# use function defined above to create choropleth map \n",
    "plot_geopandas(gpd.GeoDataFrame(area_normed_df2), 'population', 'Population density in Zurich postal areas','Blues')"
   ]
  },
  {
   "cell_type": "markdown",
   "metadata": {},
   "source": [
    "As we can see, there is some disparity in population distribution around Zurich. The northern areas seem to be more residential areas, whereas the southern areas have relatively less residents. Let's now take a look at the areas with the most hospitalitys companies, i.e. bars, cafes, restaurants etc.."
   ]
  },
  {
   "cell_type": "code",
   "execution_count": null,
   "metadata": {},
   "outputs": [],
   "source": [
    "# extract only geometries and zips and join on zurich zips \n",
    "pop_normed_df2 = pop_normed_df\n",
    "pop_normed_df2 = pd.merge(pop_normed_df2, zips[['ZIP', 'geometry']].set_index('ZIP'), 'inner', left_index=True,right_index=True)\n",
    "pop_normed_df2 = pop_normed_df2.drop_duplicates('addresses')"
   ]
  },
  {
   "cell_type": "code",
   "execution_count": null,
   "metadata": {
    "scrolled": false
   },
   "outputs": [],
   "source": [
    "# use function defined above to create choropleth map \n",
    "plot_geopandas(gpd.GeoDataFrame(pop_normed_df2), 'hospitality_companies',\\\n",
    "               'Number of hospitality companies per person in  per person Zurich postal areas','Purples')"
   ]
  },
  {
   "cell_type": "markdown",
   "metadata": {},
   "source": [
    "We see here that the northern areas have more restaurants, bars etc.. This could be linked to the fact that more people live there, as seen previously. Let's also take a look at which areas have the most addresses, this could be an indication of building density."
   ]
  },
  {
   "cell_type": "code",
   "execution_count": null,
   "metadata": {},
   "outputs": [],
   "source": [
    "# use function defined above to create choropleth map \n",
    "plot_geopandas(gpd.GeoDataFrame(pop_normed_df2), 'addresses',\\\n",
    "               'Number of building addresses per person in Zurich postal areas','Oranges')"
   ]
  },
  {
   "cell_type": "markdown",
   "metadata": {},
   "source": [
    "Once again the same areas are highlighted. This brief exploration allows us to get an overview of the layout of Zurich, and how people and buildings are dispersed. A more detailed analysis is expected for the next milestone of our project."
   ]
  }
 ],
 "metadata": {
  "kernelspec": {
   "display_name": "Python (ada)",
   "language": "python",
   "name": "ada"
  },
  "language_info": {
   "codemirror_mode": {
    "name": "ipython",
    "version": 3
   },
   "file_extension": ".py",
   "mimetype": "text/x-python",
   "name": "python",
   "nbconvert_exporter": "python",
   "pygments_lexer": "ipython3",
   "version": "3.6.6"
  }
 },
 "nbformat": 4,
 "nbformat_minor": 2
}
